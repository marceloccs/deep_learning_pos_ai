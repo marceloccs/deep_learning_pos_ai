{
  "nbformat": 4,
  "nbformat_minor": 0,
  "metadata": {
    "colab": {
      "name": "Trilha 8: Uso de PyThorch como hyper-parametros.ipynb",
      "provenance": [],
      "collapsed_sections": [],
      "authorship_tag": "ABX9TyOKMhoTOjTz3jq7iwf9nVIV",
      "include_colab_link": true
    },
    "kernelspec": {
      "name": "python3",
      "display_name": "Python 3"
    },
    "language_info": {
      "name": "python"
    }
  },
  "cells": [
    {
      "cell_type": "markdown",
      "metadata": {
        "id": "view-in-github",
        "colab_type": "text"
      },
      "source": [
        "<a href=\"https://colab.research.google.com/github/marceloccs/deep_learning_pos_ai/blob/main/Trilha_8_Uso_de_PyThorch_como_hyper_parametros.ipynb\" target=\"_parent\"><img src=\"https://colab.research.google.com/assets/colab-badge.svg\" alt=\"Open In Colab\"/></a>"
      ]
    },
    {
      "cell_type": "markdown",
      "metadata": {
        "id": "QR-oCoD1U1kJ"
      },
      "source": [
        "#**Nome:** Marcelo Custodio Cruz Silva\n",
        "\n",
        "##**Matricula:** 92123341\n",
        "\n",
        "---\n",
        "\n",
        "##**Curso:** Inteligencia Artificial\n",
        "\n",
        "##**Turma:** B\n",
        "\n",
        "*Link do arquivo no google colabs: https://colab.research.google.com/drive/1cKC02LtR1lDJq5QeEuKpL6N7M3w33lQE?usp=sharing*\n",
        "\n",
        "*Link do arquivo no github: https://github.com/marceloccs/deep_learning_pos_ai/blob/main/Trilha_8_Uso_de_PyThorch_como_hyper_parametros.ipynb* "
      ]
    },
    {
      "cell_type": "markdown",
      "metadata": {
        "id": "xRu7DulSc2tZ"
      },
      "source": [
        "#Trilha 8: Tarefa\n",
        "\n",
        "Nesta tarefa você fará o ajuste automático dos hiperparâmetros do modelo TensorFlow que você desenvolveu na atividade da Trilha 4. O resultado do seu modelo deve ser acima de 0.8 de acuracidade sobre o conjunto de teste (0.3 dos dados de treinamento). Mostre sua seleção de valores de hiperparâmetros e os resultados apresentados ao final indicando a diferença obtida com relação ao modelo original.   \n",
        "\n",
        " \n",
        "\n",
        "Se preferir, você pode fazer o tunning dos hiperparâmetros em PyTorch empregando a atividade da Trilha 6 como modelo inicial. \n",
        "\n",
        " \n",
        "\n",
        "Ao final, apresente as suas conclusões. \n",
        "\n",
        "\n",
        "\n",
        "Enviar a atividade em .pdf juntamente com o endereço do Python notebook 100% executável. "
      ]
    },
    {
      "cell_type": "markdown",
      "metadata": {
        "id": "_yHNvN7lWcGA"
      },
      "source": [
        "##Preparos iniciais do modelo"
      ]
    },
    {
      "cell_type": "markdown",
      "metadata": {
        "id": "YWBlCm1EeS0w"
      },
      "source": [
        "###Imports para dependencias necessarias ao decorrer do modelo."
      ]
    },
    {
      "cell_type": "code",
      "source": [
        "!pip install -q -U keras-tuner"
      ],
      "metadata": {
        "id": "BcK75pSFkf6g"
      },
      "execution_count": 1,
      "outputs": []
    },
    {
      "cell_type": "code",
      "metadata": {
        "id": "jSVsFGuMeZ8w",
        "colab": {
          "base_uri": "https://localhost:8080/"
        },
        "outputId": "434a5836-ebf7-4739-844a-493516a1c099"
      },
      "source": [
        "#Manipulação de dados\n",
        "import pandas as pd\n",
        "import numpy as np\n",
        "import matplotlib.pyplot as plt\n",
        "#Tnsorflow\n",
        "import tensorflow as tf\n",
        "from tensorflow import keras\n",
        "from tensorflow.keras import layers\n",
        "#Keras Tuner\n",
        "import kerastuner as kt\n",
        "#Sklearn\n",
        "from sklearn.model_selection import train_test_split\n",
        "from sklearn.metrics import confusion_matrix, classification_report, accuracy_score\n",
        "from sklearn.preprocessing import LabelEncoder\n",
        "#Auxiliar para leitura e print de dados\n",
        "from IPython.display import display\n",
        "import math"
      ],
      "execution_count": 2,
      "outputs": [
        {
          "output_type": "stream",
          "name": "stderr",
          "text": [
            "/usr/local/lib/python3.7/dist-packages/ipykernel_launcher.py:10: DeprecationWarning: `import kerastuner` is deprecated, please use `import keras_tuner`.\n",
            "  # Remove the CWD from sys.path while we load stuff.\n"
          ]
        }
      ]
    },
    {
      "cell_type": "markdown",
      "metadata": {
        "id": "tkjT9qbxerzw"
      },
      "source": [
        "###Leitura do arquivo para predição de cogumelos."
      ]
    },
    {
      "cell_type": "markdown",
      "metadata": {
        "id": "h6BcwhX5gij6"
      },
      "source": [
        "*Modelo de classificação binária para identificação se o cogumelo, pelas suas características físicas, é comestível ou venenoso.*"
      ]
    },
    {
      "cell_type": "markdown",
      "metadata": {
        "id": "Lc7NobOpd-kw"
      },
      "source": [
        "**Link Kaggle:** https://archive.ics.uci.edu/ml/datasets/Mushroom\n",
        "\n",
        "**Link Github:** https://raw.githubusercontent.com/marceloccs/pos-ai-files/main/Trilha%204%20Uso%20de%20tensores%20com%20TenserFlow/agaricus-lepiota.data"
      ]
    },
    {
      "cell_type": "markdown",
      "metadata": {
        "id": "qzumCONFeOBY"
      },
      "source": [
        "A seguir é utilizado um dataset contendo diversas especies de cogumelos, as características vão ser utilizadas para definir se o cogumelo é venenoso ou comestível. Para realizar esse predição é utilizado o modelo de classificação binária."
      ]
    },
    {
      "cell_type": "code",
      "metadata": {
        "colab": {
          "base_uri": "https://localhost:8080/",
          "height": 226
        },
        "id": "FbzuOfplXnWQ",
        "outputId": "9634dedb-fe70-4d1d-8107-424bd1ad48bb"
      },
      "source": [
        "df = pd.read_csv('https://raw.githubusercontent.com/marceloccs/pos-ai-files/main/Trilha%204%20Uso%20de%20tensores%20com%20TenserFlow/agaricus-lepiota.data')\n",
        "df = df.dropna()\n",
        "display(df.head())"
      ],
      "execution_count": 3,
      "outputs": [
        {
          "output_type": "display_data",
          "data": {
            "text/html": [
              "<div>\n",
              "<style scoped>\n",
              "    .dataframe tbody tr th:only-of-type {\n",
              "        vertical-align: middle;\n",
              "    }\n",
              "\n",
              "    .dataframe tbody tr th {\n",
              "        vertical-align: top;\n",
              "    }\n",
              "\n",
              "    .dataframe thead th {\n",
              "        text-align: right;\n",
              "    }\n",
              "</style>\n",
              "<table border=\"1\" class=\"dataframe\">\n",
              "  <thead>\n",
              "    <tr style=\"text-align: right;\">\n",
              "      <th></th>\n",
              "      <th>classe</th>\n",
              "      <th>cap_shape</th>\n",
              "      <th>cap_surface</th>\n",
              "      <th>cap_color</th>\n",
              "      <th>bruises</th>\n",
              "      <th>odor</th>\n",
              "      <th>gill_attachment</th>\n",
              "      <th>gill_spacing</th>\n",
              "      <th>gill_size</th>\n",
              "      <th>gill_color</th>\n",
              "      <th>stalk_shape</th>\n",
              "      <th>stalk_root</th>\n",
              "      <th>stalk_surface_above_ring</th>\n",
              "      <th>stalk_surface_below_ring</th>\n",
              "      <th>stalk_color_above_ring</th>\n",
              "      <th>stalk_color_below_ring</th>\n",
              "      <th>veil_type</th>\n",
              "      <th>veil_color</th>\n",
              "      <th>ring_number</th>\n",
              "      <th>ring_type</th>\n",
              "      <th>spore_print_color</th>\n",
              "      <th>population</th>\n",
              "      <th>habitat</th>\n",
              "    </tr>\n",
              "  </thead>\n",
              "  <tbody>\n",
              "    <tr>\n",
              "      <th>0</th>\n",
              "      <td>p</td>\n",
              "      <td>x</td>\n",
              "      <td>s</td>\n",
              "      <td>n</td>\n",
              "      <td>t</td>\n",
              "      <td>p</td>\n",
              "      <td>f</td>\n",
              "      <td>c</td>\n",
              "      <td>n</td>\n",
              "      <td>k</td>\n",
              "      <td>e</td>\n",
              "      <td>e</td>\n",
              "      <td>s</td>\n",
              "      <td>s</td>\n",
              "      <td>w</td>\n",
              "      <td>w</td>\n",
              "      <td>p</td>\n",
              "      <td>w</td>\n",
              "      <td>o</td>\n",
              "      <td>p</td>\n",
              "      <td>k</td>\n",
              "      <td>s</td>\n",
              "      <td>u</td>\n",
              "    </tr>\n",
              "    <tr>\n",
              "      <th>1</th>\n",
              "      <td>e</td>\n",
              "      <td>x</td>\n",
              "      <td>s</td>\n",
              "      <td>y</td>\n",
              "      <td>t</td>\n",
              "      <td>a</td>\n",
              "      <td>f</td>\n",
              "      <td>c</td>\n",
              "      <td>b</td>\n",
              "      <td>k</td>\n",
              "      <td>e</td>\n",
              "      <td>c</td>\n",
              "      <td>s</td>\n",
              "      <td>s</td>\n",
              "      <td>w</td>\n",
              "      <td>w</td>\n",
              "      <td>p</td>\n",
              "      <td>w</td>\n",
              "      <td>o</td>\n",
              "      <td>p</td>\n",
              "      <td>n</td>\n",
              "      <td>n</td>\n",
              "      <td>g</td>\n",
              "    </tr>\n",
              "    <tr>\n",
              "      <th>2</th>\n",
              "      <td>e</td>\n",
              "      <td>b</td>\n",
              "      <td>s</td>\n",
              "      <td>w</td>\n",
              "      <td>t</td>\n",
              "      <td>l</td>\n",
              "      <td>f</td>\n",
              "      <td>c</td>\n",
              "      <td>b</td>\n",
              "      <td>n</td>\n",
              "      <td>e</td>\n",
              "      <td>c</td>\n",
              "      <td>s</td>\n",
              "      <td>s</td>\n",
              "      <td>w</td>\n",
              "      <td>w</td>\n",
              "      <td>p</td>\n",
              "      <td>w</td>\n",
              "      <td>o</td>\n",
              "      <td>p</td>\n",
              "      <td>n</td>\n",
              "      <td>n</td>\n",
              "      <td>m</td>\n",
              "    </tr>\n",
              "    <tr>\n",
              "      <th>3</th>\n",
              "      <td>p</td>\n",
              "      <td>x</td>\n",
              "      <td>y</td>\n",
              "      <td>w</td>\n",
              "      <td>t</td>\n",
              "      <td>p</td>\n",
              "      <td>f</td>\n",
              "      <td>c</td>\n",
              "      <td>n</td>\n",
              "      <td>n</td>\n",
              "      <td>e</td>\n",
              "      <td>e</td>\n",
              "      <td>s</td>\n",
              "      <td>s</td>\n",
              "      <td>w</td>\n",
              "      <td>w</td>\n",
              "      <td>p</td>\n",
              "      <td>w</td>\n",
              "      <td>o</td>\n",
              "      <td>p</td>\n",
              "      <td>k</td>\n",
              "      <td>s</td>\n",
              "      <td>u</td>\n",
              "    </tr>\n",
              "    <tr>\n",
              "      <th>4</th>\n",
              "      <td>e</td>\n",
              "      <td>x</td>\n",
              "      <td>s</td>\n",
              "      <td>g</td>\n",
              "      <td>f</td>\n",
              "      <td>n</td>\n",
              "      <td>f</td>\n",
              "      <td>w</td>\n",
              "      <td>b</td>\n",
              "      <td>k</td>\n",
              "      <td>t</td>\n",
              "      <td>e</td>\n",
              "      <td>s</td>\n",
              "      <td>s</td>\n",
              "      <td>w</td>\n",
              "      <td>w</td>\n",
              "      <td>p</td>\n",
              "      <td>w</td>\n",
              "      <td>o</td>\n",
              "      <td>e</td>\n",
              "      <td>n</td>\n",
              "      <td>a</td>\n",
              "      <td>g</td>\n",
              "    </tr>\n",
              "  </tbody>\n",
              "</table>\n",
              "</div>"
            ],
            "text/plain": [
              "  classe cap_shape cap_surface  ... spore_print_color population habitat\n",
              "0      p         x           s  ...                 k          s       u\n",
              "1      e         x           s  ...                 n          n       g\n",
              "2      e         b           s  ...                 n          n       m\n",
              "3      p         x           y  ...                 k          s       u\n",
              "4      e         x           s  ...                 n          a       g\n",
              "\n",
              "[5 rows x 23 columns]"
            ]
          },
          "metadata": {}
        }
      ]
    },
    {
      "cell_type": "markdown",
      "metadata": {
        "id": "gTCmITzDYjZ_"
      },
      "source": [
        "###Informações de atributos: \n",
        "\n"
      ]
    },
    {
      "cell_type": "markdown",
      "metadata": {
        "id": "SLPMthaFZ8jA"
      },
      "source": [
        "     1. classes: comestíveis = e, venenosos = p\n",
        "     2. forma de capa: sino = b, cônico = c, convexo = x, plano = f,knobbed = k, sunken = s\n",
        "     3. superfície da capa: fibrosa = f, ranhuras = g, escamosa = y, lisa = s\n",
        "     4. cor da tampa: marrom = n, amarelo-claro = b, canela = c, cinza = g, verde = r, rosa = p, roxo = u, vermelho = e, branco = w, amarelo = y\n",
        "     5. hematomas ?: hematomas = t, não = f\n",
        "     6. odor: amêndoa = a, anis = l, creosoto = c, peixe = y, fétido = f, mofo = m, nenhum = n, picante = p, picante = s \n",
        "     7. anexo de brânquia: anexado = a, descendente = d, livre = f, entalhado = n\n",
        "     8. espaçamento entre guelras: próximo = c, lotado = w, distante = d\n",
        "     9. tamanho da guelra: largo = b, estreito = n\n",
        "     10. cor das guelras: preto = k, marrom = n, amarelo-claro = b, chocolate = h, cinza = g, verde = r, laranja = o, rosa = p, roxo = u, vermelho = e, branco = w, amarelo = y\n",
        "     11. formato de haste: ampliação = e, afilamento = t\n",
        "     12. raiz do caule: bulboso = b, clube = c, xícara = u, igual = e, rizomorfos = z, enraizado = r, ausente =?\n",
        "     13. superfície da haste acima do anel: fibroso = f, escamoso = y, sedoso = k, liso = s\n",
        "     14. superfície do caule abaixo do anel: fibroso = f, escamoso = y, sedoso = k, liso = s\n",
        "     15. haste-cor-acima do anel: marrom = n, amarelo-claro = b, canela = c, cinza = g, laranja = o, rosa = p, vermelho = e, branco = w, amarelo = y\n",
        "     16. cor-do-caule abaixo do anel: marrom = n, amarelo-claro = b, canela = c, cinza = g, laranja = o, rosa = p, vermelho = e, branco = w, amarelo = y\n",
        "     17. tipo de véu: parcial = p, universal = u \n",
        "     18. cor do véu: marrom = n, laranja = o, branco = w, amarelo = y\n",
        "     19. número do anel: nenhum = n, um = o, dois = t 19. tipo de anel: teia de aranha = c, evanescente = e, alargamento = f, grande = l, nenhum = n, pendente = p, revestimento = s, zona = z\n",
        "     20. spore-print-color: black = k, brown = n, buff = b, chocolate = h, green = r, laranja = o, roxo = u, branco = w, amarelo = y\n",
        "     21. população: abundante = a, agrupado = c, numeroso = n, espalhado = s, vários = v, solitário = y\n",
        "     22. habitat: gramíneas = g, folhas = l, prados = m, caminhos = p, urbano = u, desperdício = w, madeiras = d"
      ]
    },
    {
      "cell_type": "markdown",
      "metadata": {
        "id": "XlAcyxA4rtE0"
      },
      "source": [
        "###Contagem de cogumelos por classe:"
      ]
    },
    {
      "cell_type": "code",
      "metadata": {
        "id": "JDVtZ6pzruHc",
        "colab": {
          "base_uri": "https://localhost:8080/",
          "height": 69
        },
        "outputId": "fe170737-ac52-4fbb-e1b9-ca61ebda158d"
      },
      "source": [
        "dfCount = df['classe'].value_counts()\n",
        "display(dfCount)"
      ],
      "execution_count": 4,
      "outputs": [
        {
          "output_type": "display_data",
          "data": {
            "text/plain": [
              "e    4208\n",
              "p    3916\n",
              "Name: classe, dtype: int64"
            ]
          },
          "metadata": {}
        }
      ]
    },
    {
      "cell_type": "markdown",
      "metadata": {
        "id": "WCGAzgnyXxsQ"
      },
      "source": [
        "####Função Auxiliar para leitura descretização"
      ]
    },
    {
      "cell_type": "markdown",
      "metadata": {
        "id": "X9qGbPRCdhyl"
      },
      "source": [
        "*Como o modelo é para classificação binária, é necessario valores numéricos no modelo*\n",
        " \n",
        "A função abaixo faz um Labbel enconder por valores na coluna, realizando uma discretização de valores."
      ]
    },
    {
      "cell_type": "code",
      "metadata": {
        "id": "gqYU1BjwXvUv"
      },
      "source": [
        "def dataframeEncoding(dataframe):\n",
        "    le = LabelEncoder()\n",
        "    for i in range(len(dataframe.columns)):\n",
        "        le.fit(dataframe.iloc[:,i])\n",
        "        dataframe.iloc[:,i]  = le.transform(dataframe.iloc[:,i])\n",
        "    return dataframe"
      ],
      "execution_count": 5,
      "outputs": []
    },
    {
      "cell_type": "code",
      "metadata": {
        "colab": {
          "base_uri": "https://localhost:8080/",
          "height": 226
        },
        "id": "10INffrJexw3",
        "outputId": "79c14586-0302-4a1b-ede3-56561a6e2d31"
      },
      "source": [
        "df = dataframeEncoding(df)\n",
        "display(df.head())"
      ],
      "execution_count": 6,
      "outputs": [
        {
          "output_type": "display_data",
          "data": {
            "text/html": [
              "<div>\n",
              "<style scoped>\n",
              "    .dataframe tbody tr th:only-of-type {\n",
              "        vertical-align: middle;\n",
              "    }\n",
              "\n",
              "    .dataframe tbody tr th {\n",
              "        vertical-align: top;\n",
              "    }\n",
              "\n",
              "    .dataframe thead th {\n",
              "        text-align: right;\n",
              "    }\n",
              "</style>\n",
              "<table border=\"1\" class=\"dataframe\">\n",
              "  <thead>\n",
              "    <tr style=\"text-align: right;\">\n",
              "      <th></th>\n",
              "      <th>classe</th>\n",
              "      <th>cap_shape</th>\n",
              "      <th>cap_surface</th>\n",
              "      <th>cap_color</th>\n",
              "      <th>bruises</th>\n",
              "      <th>odor</th>\n",
              "      <th>gill_attachment</th>\n",
              "      <th>gill_spacing</th>\n",
              "      <th>gill_size</th>\n",
              "      <th>gill_color</th>\n",
              "      <th>stalk_shape</th>\n",
              "      <th>stalk_root</th>\n",
              "      <th>stalk_surface_above_ring</th>\n",
              "      <th>stalk_surface_below_ring</th>\n",
              "      <th>stalk_color_above_ring</th>\n",
              "      <th>stalk_color_below_ring</th>\n",
              "      <th>veil_type</th>\n",
              "      <th>veil_color</th>\n",
              "      <th>ring_number</th>\n",
              "      <th>ring_type</th>\n",
              "      <th>spore_print_color</th>\n",
              "      <th>population</th>\n",
              "      <th>habitat</th>\n",
              "    </tr>\n",
              "  </thead>\n",
              "  <tbody>\n",
              "    <tr>\n",
              "      <th>0</th>\n",
              "      <td>1</td>\n",
              "      <td>5</td>\n",
              "      <td>2</td>\n",
              "      <td>4</td>\n",
              "      <td>1</td>\n",
              "      <td>6</td>\n",
              "      <td>1</td>\n",
              "      <td>0</td>\n",
              "      <td>1</td>\n",
              "      <td>4</td>\n",
              "      <td>0</td>\n",
              "      <td>3</td>\n",
              "      <td>2</td>\n",
              "      <td>2</td>\n",
              "      <td>7</td>\n",
              "      <td>7</td>\n",
              "      <td>0</td>\n",
              "      <td>2</td>\n",
              "      <td>1</td>\n",
              "      <td>4</td>\n",
              "      <td>2</td>\n",
              "      <td>3</td>\n",
              "      <td>5</td>\n",
              "    </tr>\n",
              "    <tr>\n",
              "      <th>1</th>\n",
              "      <td>0</td>\n",
              "      <td>5</td>\n",
              "      <td>2</td>\n",
              "      <td>9</td>\n",
              "      <td>1</td>\n",
              "      <td>0</td>\n",
              "      <td>1</td>\n",
              "      <td>0</td>\n",
              "      <td>0</td>\n",
              "      <td>4</td>\n",
              "      <td>0</td>\n",
              "      <td>2</td>\n",
              "      <td>2</td>\n",
              "      <td>2</td>\n",
              "      <td>7</td>\n",
              "      <td>7</td>\n",
              "      <td>0</td>\n",
              "      <td>2</td>\n",
              "      <td>1</td>\n",
              "      <td>4</td>\n",
              "      <td>3</td>\n",
              "      <td>2</td>\n",
              "      <td>1</td>\n",
              "    </tr>\n",
              "    <tr>\n",
              "      <th>2</th>\n",
              "      <td>0</td>\n",
              "      <td>0</td>\n",
              "      <td>2</td>\n",
              "      <td>8</td>\n",
              "      <td>1</td>\n",
              "      <td>3</td>\n",
              "      <td>1</td>\n",
              "      <td>0</td>\n",
              "      <td>0</td>\n",
              "      <td>5</td>\n",
              "      <td>0</td>\n",
              "      <td>2</td>\n",
              "      <td>2</td>\n",
              "      <td>2</td>\n",
              "      <td>7</td>\n",
              "      <td>7</td>\n",
              "      <td>0</td>\n",
              "      <td>2</td>\n",
              "      <td>1</td>\n",
              "      <td>4</td>\n",
              "      <td>3</td>\n",
              "      <td>2</td>\n",
              "      <td>3</td>\n",
              "    </tr>\n",
              "    <tr>\n",
              "      <th>3</th>\n",
              "      <td>1</td>\n",
              "      <td>5</td>\n",
              "      <td>3</td>\n",
              "      <td>8</td>\n",
              "      <td>1</td>\n",
              "      <td>6</td>\n",
              "      <td>1</td>\n",
              "      <td>0</td>\n",
              "      <td>1</td>\n",
              "      <td>5</td>\n",
              "      <td>0</td>\n",
              "      <td>3</td>\n",
              "      <td>2</td>\n",
              "      <td>2</td>\n",
              "      <td>7</td>\n",
              "      <td>7</td>\n",
              "      <td>0</td>\n",
              "      <td>2</td>\n",
              "      <td>1</td>\n",
              "      <td>4</td>\n",
              "      <td>2</td>\n",
              "      <td>3</td>\n",
              "      <td>5</td>\n",
              "    </tr>\n",
              "    <tr>\n",
              "      <th>4</th>\n",
              "      <td>0</td>\n",
              "      <td>5</td>\n",
              "      <td>2</td>\n",
              "      <td>3</td>\n",
              "      <td>0</td>\n",
              "      <td>5</td>\n",
              "      <td>1</td>\n",
              "      <td>1</td>\n",
              "      <td>0</td>\n",
              "      <td>4</td>\n",
              "      <td>1</td>\n",
              "      <td>3</td>\n",
              "      <td>2</td>\n",
              "      <td>2</td>\n",
              "      <td>7</td>\n",
              "      <td>7</td>\n",
              "      <td>0</td>\n",
              "      <td>2</td>\n",
              "      <td>1</td>\n",
              "      <td>0</td>\n",
              "      <td>3</td>\n",
              "      <td>0</td>\n",
              "      <td>1</td>\n",
              "    </tr>\n",
              "  </tbody>\n",
              "</table>\n",
              "</div>"
            ],
            "text/plain": [
              "   classe  cap_shape  cap_surface  ...  spore_print_color  population  habitat\n",
              "0       1          5            2  ...                  2           3        5\n",
              "1       0          5            2  ...                  3           2        1\n",
              "2       0          0            2  ...                  3           2        3\n",
              "3       1          5            3  ...                  2           3        5\n",
              "4       0          5            2  ...                  3           0        1\n",
              "\n",
              "[5 rows x 23 columns]"
            ]
          },
          "metadata": {}
        }
      ]
    },
    {
      "cell_type": "markdown",
      "metadata": {
        "id": "0L9gHLfEXZwl"
      },
      "source": [
        "##Inicio do modelo, treinamento e resultado  "
      ]
    },
    {
      "cell_type": "markdown",
      "metadata": {
        "id": "tpHrpQpivNNU"
      },
      "source": [
        "###Separação de modelos de teste e de treinamento"
      ]
    },
    {
      "cell_type": "markdown",
      "metadata": {
        "id": "p7sScvr5iC9q"
      },
      "source": [
        "*Separando os grupos de teste e treino, com o tamanho de teste de 30% (ou 0.3) do modelo todo*"
      ]
    },
    {
      "cell_type": "code",
      "metadata": {
        "colab": {
          "base_uri": "https://localhost:8080/",
          "height": 415
        },
        "id": "D3vVJMPHurS0",
        "outputId": "8f45113f-9265-4e22-bfad-fccf2ce7fe9d"
      },
      "source": [
        "dfClassificacao = df.copy()\n",
        "X = dfClassificacao.drop('classe', axis=1)\n",
        "y = dfClassificacao[['classe']]\n",
        "X_train, X_test, y_train, y_test = train_test_split(X, y, test_size=0.3, random_state=6)\n",
        "display(X_train.head())\n",
        "display(y_train.head())"
      ],
      "execution_count": 7,
      "outputs": [
        {
          "output_type": "display_data",
          "data": {
            "text/html": [
              "<div>\n",
              "<style scoped>\n",
              "    .dataframe tbody tr th:only-of-type {\n",
              "        vertical-align: middle;\n",
              "    }\n",
              "\n",
              "    .dataframe tbody tr th {\n",
              "        vertical-align: top;\n",
              "    }\n",
              "\n",
              "    .dataframe thead th {\n",
              "        text-align: right;\n",
              "    }\n",
              "</style>\n",
              "<table border=\"1\" class=\"dataframe\">\n",
              "  <thead>\n",
              "    <tr style=\"text-align: right;\">\n",
              "      <th></th>\n",
              "      <th>cap_shape</th>\n",
              "      <th>cap_surface</th>\n",
              "      <th>cap_color</th>\n",
              "      <th>bruises</th>\n",
              "      <th>odor</th>\n",
              "      <th>gill_attachment</th>\n",
              "      <th>gill_spacing</th>\n",
              "      <th>gill_size</th>\n",
              "      <th>gill_color</th>\n",
              "      <th>stalk_shape</th>\n",
              "      <th>stalk_root</th>\n",
              "      <th>stalk_surface_above_ring</th>\n",
              "      <th>stalk_surface_below_ring</th>\n",
              "      <th>stalk_color_above_ring</th>\n",
              "      <th>stalk_color_below_ring</th>\n",
              "      <th>veil_type</th>\n",
              "      <th>veil_color</th>\n",
              "      <th>ring_number</th>\n",
              "      <th>ring_type</th>\n",
              "      <th>spore_print_color</th>\n",
              "      <th>population</th>\n",
              "      <th>habitat</th>\n",
              "    </tr>\n",
              "  </thead>\n",
              "  <tbody>\n",
              "    <tr>\n",
              "      <th>716</th>\n",
              "      <td>0</td>\n",
              "      <td>2</td>\n",
              "      <td>8</td>\n",
              "      <td>1</td>\n",
              "      <td>3</td>\n",
              "      <td>1</td>\n",
              "      <td>0</td>\n",
              "      <td>0</td>\n",
              "      <td>4</td>\n",
              "      <td>0</td>\n",
              "      <td>2</td>\n",
              "      <td>2</td>\n",
              "      <td>2</td>\n",
              "      <td>7</td>\n",
              "      <td>7</td>\n",
              "      <td>0</td>\n",
              "      <td>2</td>\n",
              "      <td>1</td>\n",
              "      <td>4</td>\n",
              "      <td>3</td>\n",
              "      <td>3</td>\n",
              "      <td>3</td>\n",
              "    </tr>\n",
              "    <tr>\n",
              "      <th>36</th>\n",
              "      <td>4</td>\n",
              "      <td>0</td>\n",
              "      <td>3</td>\n",
              "      <td>0</td>\n",
              "      <td>5</td>\n",
              "      <td>1</td>\n",
              "      <td>0</td>\n",
              "      <td>1</td>\n",
              "      <td>4</td>\n",
              "      <td>0</td>\n",
              "      <td>3</td>\n",
              "      <td>2</td>\n",
              "      <td>2</td>\n",
              "      <td>7</td>\n",
              "      <td>7</td>\n",
              "      <td>0</td>\n",
              "      <td>2</td>\n",
              "      <td>1</td>\n",
              "      <td>4</td>\n",
              "      <td>2</td>\n",
              "      <td>4</td>\n",
              "      <td>5</td>\n",
              "    </tr>\n",
              "    <tr>\n",
              "      <th>336</th>\n",
              "      <td>5</td>\n",
              "      <td>3</td>\n",
              "      <td>4</td>\n",
              "      <td>1</td>\n",
              "      <td>0</td>\n",
              "      <td>1</td>\n",
              "      <td>0</td>\n",
              "      <td>0</td>\n",
              "      <td>10</td>\n",
              "      <td>0</td>\n",
              "      <td>4</td>\n",
              "      <td>2</td>\n",
              "      <td>3</td>\n",
              "      <td>7</td>\n",
              "      <td>7</td>\n",
              "      <td>0</td>\n",
              "      <td>2</td>\n",
              "      <td>1</td>\n",
              "      <td>4</td>\n",
              "      <td>2</td>\n",
              "      <td>5</td>\n",
              "      <td>1</td>\n",
              "    </tr>\n",
              "    <tr>\n",
              "      <th>8084</th>\n",
              "      <td>0</td>\n",
              "      <td>0</td>\n",
              "      <td>3</td>\n",
              "      <td>0</td>\n",
              "      <td>5</td>\n",
              "      <td>1</td>\n",
              "      <td>1</td>\n",
              "      <td>0</td>\n",
              "      <td>7</td>\n",
              "      <td>0</td>\n",
              "      <td>0</td>\n",
              "      <td>1</td>\n",
              "      <td>1</td>\n",
              "      <td>7</td>\n",
              "      <td>7</td>\n",
              "      <td>0</td>\n",
              "      <td>2</td>\n",
              "      <td>2</td>\n",
              "      <td>4</td>\n",
              "      <td>7</td>\n",
              "      <td>3</td>\n",
              "      <td>1</td>\n",
              "    </tr>\n",
              "    <tr>\n",
              "      <th>960</th>\n",
              "      <td>5</td>\n",
              "      <td>0</td>\n",
              "      <td>4</td>\n",
              "      <td>0</td>\n",
              "      <td>5</td>\n",
              "      <td>1</td>\n",
              "      <td>1</td>\n",
              "      <td>0</td>\n",
              "      <td>5</td>\n",
              "      <td>1</td>\n",
              "      <td>3</td>\n",
              "      <td>0</td>\n",
              "      <td>0</td>\n",
              "      <td>7</td>\n",
              "      <td>7</td>\n",
              "      <td>0</td>\n",
              "      <td>2</td>\n",
              "      <td>1</td>\n",
              "      <td>0</td>\n",
              "      <td>2</td>\n",
              "      <td>0</td>\n",
              "      <td>1</td>\n",
              "    </tr>\n",
              "  </tbody>\n",
              "</table>\n",
              "</div>"
            ],
            "text/plain": [
              "      cap_shape  cap_surface  cap_color  ...  spore_print_color  population  habitat\n",
              "716           0            2          8  ...                  3           3        3\n",
              "36            4            0          3  ...                  2           4        5\n",
              "336           5            3          4  ...                  2           5        1\n",
              "8084          0            0          3  ...                  7           3        1\n",
              "960           5            0          4  ...                  2           0        1\n",
              "\n",
              "[5 rows x 22 columns]"
            ]
          },
          "metadata": {}
        },
        {
          "output_type": "display_data",
          "data": {
            "text/html": [
              "<div>\n",
              "<style scoped>\n",
              "    .dataframe tbody tr th:only-of-type {\n",
              "        vertical-align: middle;\n",
              "    }\n",
              "\n",
              "    .dataframe tbody tr th {\n",
              "        vertical-align: top;\n",
              "    }\n",
              "\n",
              "    .dataframe thead th {\n",
              "        text-align: right;\n",
              "    }\n",
              "</style>\n",
              "<table border=\"1\" class=\"dataframe\">\n",
              "  <thead>\n",
              "    <tr style=\"text-align: right;\">\n",
              "      <th></th>\n",
              "      <th>classe</th>\n",
              "    </tr>\n",
              "  </thead>\n",
              "  <tbody>\n",
              "    <tr>\n",
              "      <th>716</th>\n",
              "      <td>0</td>\n",
              "    </tr>\n",
              "    <tr>\n",
              "      <th>36</th>\n",
              "      <td>0</td>\n",
              "    </tr>\n",
              "    <tr>\n",
              "      <th>336</th>\n",
              "      <td>0</td>\n",
              "    </tr>\n",
              "    <tr>\n",
              "      <th>8084</th>\n",
              "      <td>0</td>\n",
              "    </tr>\n",
              "    <tr>\n",
              "      <th>960</th>\n",
              "      <td>0</td>\n",
              "    </tr>\n",
              "  </tbody>\n",
              "</table>\n",
              "</div>"
            ],
            "text/plain": [
              "      classe\n",
              "716        0\n",
              "36         0\n",
              "336        0\n",
              "8084       0\n",
              "960        0"
            ]
          },
          "metadata": {}
        }
      ]
    },
    {
      "cell_type": "markdown",
      "metadata": {
        "id": "MOpcDplHXRa5"
      },
      "source": [
        "###Modelo de aprendizado binario"
      ]
    },
    {
      "cell_type": "markdown",
      "metadata": {
        "id": "I1qCEPMUhWYF"
      },
      "source": [
        "**Abaixo o modelo criado possui 4 camadas**\n",
        "\n",
        "Como usado o hyperparametro para decidir o numero de camadas, não temos como saber quantas camadas são criadas, mas sabemos que eram ser criadas pelo menos:\n",
        "\n",
        "1.   Camada com sigmoid, para trabalhar com valores de classes binaria e valores numéricos. *Porem com o numero de unidades definido pelo tuner*\n",
        "2.   Um numero determinado pelo tuner de camadas lineares com a função de ativação ReLu.\n",
        "3.   Um numero determinado pelo tuner de camadas de Dropout.\n",
        "4.   Camada de saída com sigmoid novamente. *Criado com o valor de entrada de neurônios com o a quantidade de colunas do conjunto de treinamento com os valores de classe*\n",
        "\n",
        "**Função de perda é utilizado o \"*binary_crossentropy*\", como otimizado do modelo o \"*adam*\", utilizando o numero de curva de aprendizado determinado pelo tuner, e a métrica de \"*accuracy*\" para demonstração da efetividade do modelo**"
      ]
    },
    {
      "cell_type": "code",
      "source": [
        "def model_builder(hp):\n",
        "\n",
        "  # Tune the number of units in the first Dense layer\n",
        "  # Choose an optimal value between 8-128\n",
        "  hp_units_1 = hp.Int('hp_units_1', min_value=math.floor(X.shape[1]/10), max_value=math.floor(X.shape[1]/2), step=4)\n",
        "  hp_drop_out = hp.Choice('Dropout',values=[0.5,0.3,0.2,0.8])\n",
        "  model = keras.Sequential(layers.Dense(units=hp_units_1, activation='sigmoid', input_shape=[X.shape[1]]))\n",
        "\n",
        "  # Tune the number of hidden layers 2-10 and units per layer\n",
        "  for i in range(hp.Int('num_layers', 2, 6)):\n",
        "   \n",
        "    model.add(layers.Dropout(hp_drop_out))\n",
        "    model.add(layers.Dense(units=hp.Int('hp_units_' + str(i),\n",
        "                                            min_value=math.floor(X.shape[1]/10),\n",
        "                                            max_value=math.floor(X.shape[1]/2),\n",
        "                                            step=4),\n",
        "                               activation='relu'))\n",
        "\n",
        "  model.add(layers.Dense(y_train.shape[1], activation='sigmoid'))\n",
        "\n",
        "  # Tune the learning rate for the optimizer\n",
        "  # Choose an optimal value from 0.01, 0.001, or 0.0001\n",
        "  hp_learning_rate = hp.Choice('learning_rate', values=[1e-2, 1e-3, 1e-4])\n",
        "  \n",
        "  model.compile(keras.optimizers.Adam(learning_rate=hp_learning_rate), \n",
        "                loss='binary_crossentropy', \n",
        "                metrics=['accuracy'])\n",
        "\n",
        "  return model"
      ],
      "metadata": {
        "id": "_ZD0NPQ_l62f"
      },
      "execution_count": 8,
      "outputs": []
    },
    {
      "cell_type": "markdown",
      "source": [
        "Realiza o comando de hyperparametrização e teste do melhor modelo"
      ],
      "metadata": {
        "id": "0prWaEWK1Cwj"
      }
    },
    {
      "cell_type": "code",
      "metadata": {
        "id": "HwfyHpl9v0cl"
      },
      "source": [
        "tuner = kt.Hyperband(model_builder,\n",
        "                     objective='val_accuracy',\n",
        "                     max_epochs=50,\n",
        "                     factor=3,\n",
        "                     directory='mydir',\n",
        "                     project_name='trilha_8_deep_learn')"
      ],
      "execution_count": 9,
      "outputs": []
    },
    {
      "cell_type": "markdown",
      "source": [
        "Prepara o modelo e obtem os valores de hyperparametro do modelo"
      ],
      "metadata": {
        "id": "VMM2x7EH1NJC"
      }
    },
    {
      "cell_type": "code",
      "source": [
        "stop_early = tf.keras.callbacks.EarlyStopping(monitor='val_loss', patience=5)\n",
        "tuner.search(X_train, y_train, \n",
        "             batch_size=64,\n",
        "             epochs=50, \n",
        "             validation_split=0.3, \n",
        "             callbacks=[stop_early])\n",
        "\n",
        "# Get the optimal hyperparameters\n",
        "best_hps=tuner.get_best_hyperparameters(num_trials=1)[0]"
      ],
      "metadata": {
        "colab": {
          "base_uri": "https://localhost:8080/"
        },
        "id": "gZ1cZ0AhnJcb",
        "outputId": "1c7209db-48be-43f0-a1c9-719e9bad2d91"
      },
      "execution_count": 10,
      "outputs": [
        {
          "output_type": "stream",
          "name": "stdout",
          "text": [
            "Trial 90 Complete [00h 00m 05s]\n",
            "val_accuracy: 0.5152403116226196\n",
            "\n",
            "Best val_accuracy So Far: 0.9958968162536621\n",
            "Total elapsed time: 00h 05m 42s\n",
            "INFO:tensorflow:Oracle triggered exit\n"
          ]
        }
      ]
    },
    {
      "cell_type": "markdown",
      "source": [
        "Printa os valores de uso do hyper parametro"
      ],
      "metadata": {
        "id": "BxGW4Mk21cra"
      }
    },
    {
      "cell_type": "code",
      "source": [
        "print(f\"\"\"\n",
        "The hyperparameter search is complete.\n",
        "\n",
        "The optimal learning rate for the optimizer is {best_hps.get('learning_rate')}.\n",
        "\"\"\")\n",
        "\n",
        "print('Best layers units: \\n')\n",
        "for i in range(2,6):\n",
        "  print('Layer: ', i-1, ' , ', best_hps.get('hp_units_' + str(i)), ' units')"
      ],
      "metadata": {
        "colab": {
          "base_uri": "https://localhost:8080/"
        },
        "id": "cGPzZiqUonKh",
        "outputId": "540664b4-59a5-42f4-9be1-8657559ea7ff"
      },
      "execution_count": 11,
      "outputs": [
        {
          "output_type": "stream",
          "name": "stdout",
          "text": [
            "\n",
            "The hyperparameter search is complete.\n",
            "\n",
            "The optimal learning rate for the optimizer is 0.01.\n",
            "\n",
            "Best layers units: \n",
            "\n",
            "Layer:  1  ,  2  units\n",
            "Layer:  2  ,  10  units\n",
            "Layer:  3  ,  6  units\n",
            "Layer:  4  ,  6  units\n"
          ]
        }
      ]
    },
    {
      "cell_type": "markdown",
      "source": [
        "Escolhe a melhor quantidade de ciclos de treinamento."
      ],
      "metadata": {
        "id": "7tBshD8D1iYa"
      }
    },
    {
      "cell_type": "code",
      "source": [
        "# Build the model with the optimal hyperparameters and train it on the data for 50 epochs\n",
        "model = tuner.hypermodel.build(best_hps)\n",
        "\n",
        "history = model.fit(X_train, y_train, \n",
        "                    batch_size=64,\n",
        "                    epochs=50, \n",
        "                    validation_split=0.2,\n",
        "                    verbose=0)\n",
        "\n",
        "val_acc_per_epoch = history.history['val_accuracy']\n",
        "best_epoch = val_acc_per_epoch.index(max(val_acc_per_epoch)) + 1\n",
        "print('Best epoch: %d' % (best_epoch,))"
      ],
      "metadata": {
        "colab": {
          "base_uri": "https://localhost:8080/"
        },
        "id": "Tl913VLIoqNY",
        "outputId": "e98c55a9-984e-49f9-8702-de67b1e4a119"
      },
      "execution_count": 12,
      "outputs": [
        {
          "output_type": "stream",
          "name": "stdout",
          "text": [
            "Best epoch: 34\n"
          ]
        }
      ]
    },
    {
      "cell_type": "markdown",
      "source": [
        "Realiza o aprendizado do modelo com os parametros recebidos anteriormente."
      ],
      "metadata": {
        "id": "McYVDcEh1p7M"
      }
    },
    {
      "cell_type": "code",
      "source": [
        "hypermodel = tuner.hypermodel.build(best_hps)\n",
        "\n",
        "# Retrain the model\n",
        "hypermodel.fit(X_train, y_train, \n",
        "               batch_size=64,\n",
        "               epochs=best_epoch,\n",
        "               validation_split=0.2)"
      ],
      "metadata": {
        "colab": {
          "base_uri": "https://localhost:8080/"
        },
        "id": "IhROypzJoq85",
        "outputId": "41879ce6-67a6-4b6b-ea8a-0c21af4ace96"
      },
      "execution_count": 13,
      "outputs": [
        {
          "output_type": "stream",
          "name": "stdout",
          "text": [
            "Epoch 1/34\n",
            "72/72 [==============================] - 1s 5ms/step - loss: 0.6692 - accuracy: 0.5532 - val_loss: 0.5036 - val_accuracy: 0.8409\n",
            "Epoch 2/34\n",
            "72/72 [==============================] - 0s 3ms/step - loss: 0.4892 - accuracy: 0.8175 - val_loss: 0.3232 - val_accuracy: 0.9200\n",
            "Epoch 3/34\n",
            "72/72 [==============================] - 0s 3ms/step - loss: 0.3498 - accuracy: 0.8813 - val_loss: 0.2255 - val_accuracy: 0.9578\n",
            "Epoch 4/34\n",
            "72/72 [==============================] - 0s 2ms/step - loss: 0.3017 - accuracy: 0.9019 - val_loss: 0.2586 - val_accuracy: 0.9315\n",
            "Epoch 5/34\n",
            "72/72 [==============================] - 0s 3ms/step - loss: 0.2584 - accuracy: 0.9138 - val_loss: 0.1540 - val_accuracy: 0.9605\n",
            "Epoch 6/34\n",
            "72/72 [==============================] - 0s 3ms/step - loss: 0.2498 - accuracy: 0.9208 - val_loss: 0.1468 - val_accuracy: 0.9622\n",
            "Epoch 7/34\n",
            "72/72 [==============================] - 0s 3ms/step - loss: 0.2367 - accuracy: 0.9228 - val_loss: 0.1406 - val_accuracy: 0.9613\n",
            "Epoch 8/34\n",
            "72/72 [==============================] - 0s 3ms/step - loss: 0.2195 - accuracy: 0.9303 - val_loss: 0.1328 - val_accuracy: 0.9649\n",
            "Epoch 9/34\n",
            "72/72 [==============================] - 0s 3ms/step - loss: 0.2143 - accuracy: 0.9290 - val_loss: 0.1326 - val_accuracy: 0.9578\n",
            "Epoch 10/34\n",
            "72/72 [==============================] - 0s 3ms/step - loss: 0.2189 - accuracy: 0.9292 - val_loss: 0.1270 - val_accuracy: 0.9675\n",
            "Epoch 11/34\n",
            "72/72 [==============================] - 0s 3ms/step - loss: 0.2064 - accuracy: 0.9329 - val_loss: 0.1329 - val_accuracy: 0.9657\n",
            "Epoch 12/34\n",
            "72/72 [==============================] - 0s 3ms/step - loss: 0.2033 - accuracy: 0.9351 - val_loss: 0.1489 - val_accuracy: 0.9684\n",
            "Epoch 13/34\n",
            "72/72 [==============================] - 0s 3ms/step - loss: 0.2038 - accuracy: 0.9380 - val_loss: 0.1216 - val_accuracy: 0.9649\n",
            "Epoch 14/34\n",
            "72/72 [==============================] - 0s 4ms/step - loss: 0.1916 - accuracy: 0.9431 - val_loss: 0.1096 - val_accuracy: 0.9728\n",
            "Epoch 15/34\n",
            "72/72 [==============================] - 0s 3ms/step - loss: 0.1956 - accuracy: 0.9376 - val_loss: 0.1021 - val_accuracy: 0.9807\n",
            "Epoch 16/34\n",
            "72/72 [==============================] - 0s 3ms/step - loss: 0.1826 - accuracy: 0.9424 - val_loss: 0.0979 - val_accuracy: 0.9745\n",
            "Epoch 17/34\n",
            "72/72 [==============================] - 0s 3ms/step - loss: 0.1807 - accuracy: 0.9455 - val_loss: 0.1012 - val_accuracy: 0.9728\n",
            "Epoch 18/34\n",
            "72/72 [==============================] - 0s 3ms/step - loss: 0.1786 - accuracy: 0.9411 - val_loss: 0.0942 - val_accuracy: 0.9754\n",
            "Epoch 19/34\n",
            "72/72 [==============================] - 0s 3ms/step - loss: 0.1854 - accuracy: 0.9420 - val_loss: 0.0917 - val_accuracy: 0.9842\n",
            "Epoch 20/34\n",
            "72/72 [==============================] - 0s 3ms/step - loss: 0.1806 - accuracy: 0.9444 - val_loss: 0.1010 - val_accuracy: 0.9789\n",
            "Epoch 21/34\n",
            "72/72 [==============================] - 0s 3ms/step - loss: 0.1681 - accuracy: 0.9505 - val_loss: 0.0873 - val_accuracy: 0.9842\n",
            "Epoch 22/34\n",
            "72/72 [==============================] - 0s 3ms/step - loss: 0.1622 - accuracy: 0.9512 - val_loss: 0.0851 - val_accuracy: 0.9789\n",
            "Epoch 23/34\n",
            "72/72 [==============================] - 0s 3ms/step - loss: 0.1869 - accuracy: 0.9435 - val_loss: 0.1223 - val_accuracy: 0.9815\n",
            "Epoch 24/34\n",
            "72/72 [==============================] - 0s 3ms/step - loss: 0.1675 - accuracy: 0.9501 - val_loss: 0.0974 - val_accuracy: 0.9851\n",
            "Epoch 25/34\n",
            "72/72 [==============================] - 0s 3ms/step - loss: 0.1707 - accuracy: 0.9525 - val_loss: 0.1039 - val_accuracy: 0.9789\n",
            "Epoch 26/34\n",
            "72/72 [==============================] - 0s 3ms/step - loss: 0.1866 - accuracy: 0.9378 - val_loss: 0.0813 - val_accuracy: 0.9851\n",
            "Epoch 27/34\n",
            "72/72 [==============================] - 0s 3ms/step - loss: 0.1680 - accuracy: 0.9477 - val_loss: 0.0872 - val_accuracy: 0.9842\n",
            "Epoch 28/34\n",
            "72/72 [==============================] - 0s 3ms/step - loss: 0.1623 - accuracy: 0.9532 - val_loss: 0.0808 - val_accuracy: 0.9842\n",
            "Epoch 29/34\n",
            "72/72 [==============================] - 0s 3ms/step - loss: 0.1540 - accuracy: 0.9556 - val_loss: 0.0801 - val_accuracy: 0.9851\n",
            "Epoch 30/34\n",
            "72/72 [==============================] - 0s 3ms/step - loss: 0.1678 - accuracy: 0.9490 - val_loss: 0.0783 - val_accuracy: 0.9859\n",
            "Epoch 31/34\n",
            "72/72 [==============================] - 0s 3ms/step - loss: 0.1576 - accuracy: 0.9521 - val_loss: 0.0839 - val_accuracy: 0.9851\n",
            "Epoch 32/34\n",
            "72/72 [==============================] - 0s 3ms/step - loss: 0.1530 - accuracy: 0.9560 - val_loss: 0.0779 - val_accuracy: 0.9833\n",
            "Epoch 33/34\n",
            "72/72 [==============================] - 0s 3ms/step - loss: 0.1435 - accuracy: 0.9582 - val_loss: 0.0802 - val_accuracy: 0.9842\n",
            "Epoch 34/34\n",
            "72/72 [==============================] - 0s 3ms/step - loss: 0.1505 - accuracy: 0.9558 - val_loss: 0.0795 - val_accuracy: 0.9824\n"
          ]
        },
        {
          "output_type": "execute_result",
          "data": {
            "text/plain": [
              "<keras.callbacks.History at 0x7f1bf8098ed0>"
            ]
          },
          "metadata": {},
          "execution_count": 13
        }
      ]
    },
    {
      "cell_type": "markdown",
      "source": [
        "Print de resultado do modelo."
      ],
      "metadata": {
        "id": "OXAYbw0F11EL"
      }
    },
    {
      "cell_type": "code",
      "source": [
        "eval_result = hypermodel.evaluate(X_test, y_test)\n",
        "print(\"[test loss, test accuracy]:\", eval_result)"
      ],
      "metadata": {
        "colab": {
          "base_uri": "https://localhost:8080/"
        },
        "id": "aTljpUaFozDv",
        "outputId": "ecad14f8-c85d-4c52-b1f1-02bb158803f7"
      },
      "execution_count": 14,
      "outputs": [
        {
          "output_type": "stream",
          "name": "stdout",
          "text": [
            "77/77 [==============================] - 0s 1ms/step - loss: 0.0827 - accuracy: 0.9795\n",
            "[test loss, test accuracy]: [0.08274883031845093, 0.9794914126396179]\n"
          ]
        }
      ]
    },
    {
      "cell_type": "markdown",
      "metadata": {
        "id": "jgDn5s5tXIPh"
      },
      "source": [
        "###Funções de auxilio para visualização do resultado do modelo."
      ]
    },
    {
      "cell_type": "code",
      "metadata": {
        "id": "8cyBpa392kMF"
      },
      "source": [
        "def display_acc_hist(history):\n",
        "  history_df = pd.DataFrame(history.history)\n",
        "  print('\\n\\nLearning Curve... \\n\\n')\n",
        "  print('\\n', history_df.head())\n",
        "  # Start the plot at epoch 0\n",
        "  history_df.loc[0:, ['loss', 'val_loss']].plot()\n",
        "  history_df.loc[0:, [history_df.columns[1], history_df.columns[3]]].plot()\n",
        "\n",
        "  print((\"\\nBest Validation Loss: {:0.4f}\" +\\\n",
        "      \"\\nBest Validation Accuracy: {:0.4f}\")\\\n",
        "      .format(history_df[history_df.columns[2]].min(), \n",
        "              history_df[history_df.columns[3]].max()))\n",
        "  print('\\n ')\n",
        "  return\n",
        "\n",
        "def print_results(y_test, y_pred):\n",
        "  print('\\nClassification Report: \\n\\n', classification_report(y_test, y_pred))\n",
        "  print('\\nAccuracy Score: \\n\\n', accuracy_score(y_test, y_pred), '\\n')\n",
        "  return"
      ],
      "execution_count": 15,
      "outputs": []
    },
    {
      "cell_type": "markdown",
      "metadata": {
        "id": "rtV_-JHHbgxZ"
      },
      "source": [
        "###Resultado do aprendizado:"
      ]
    },
    {
      "cell_type": "code",
      "metadata": {
        "colab": {
          "base_uri": "https://localhost:8080/",
          "height": 1000
        },
        "id": "_wKb1K2mbjnH",
        "outputId": "eb5f7e08-dfba-4541-d488-95348334e099"
      },
      "source": [
        "y_pred_one = np.argmax(model.predict(X_test), axis=1)\n",
        "y_test_one = np.argmax(np.array(y_test), axis=1)\n",
        "\n",
        "print_results(y_test_one, y_pred_one)\n",
        "display_acc_hist(history)"
      ],
      "execution_count": 16,
      "outputs": [
        {
          "output_type": "stream",
          "name": "stdout",
          "text": [
            "\n",
            "Classification Report: \n",
            "\n",
            "               precision    recall  f1-score   support\n",
            "\n",
            "           0       1.00      1.00      1.00      2438\n",
            "\n",
            "    accuracy                           1.00      2438\n",
            "   macro avg       1.00      1.00      1.00      2438\n",
            "weighted avg       1.00      1.00      1.00      2438\n",
            "\n",
            "\n",
            "Accuracy Score: \n",
            "\n",
            " 1.0 \n",
            "\n",
            "\n",
            "\n",
            "Learning Curve... \n",
            "\n",
            "\n",
            "\n",
            "        loss  accuracy  val_loss  val_accuracy\n",
            "0  0.582727  0.684697  0.339738      0.881371\n",
            "1  0.357308  0.856640  0.233061      0.927944\n",
            "2  0.284808  0.901055  0.209300      0.935852\n",
            "3  0.271364  0.902595  0.208470      0.930580\n",
            "4  0.243821  0.916007  0.185432      0.943761\n",
            "\n",
            "Best Validation Loss: 0.1672\n",
            "Best Validation Accuracy: 0.9508\n",
            "\n",
            " \n"
          ]
        },
        {
          "output_type": "display_data",
          "data": {
            "image/png": "[encoded data removed]",
            "text/plain": [
              "<Figure size 432x288 with 1 Axes>"
            ]
          },
          "metadata": {
            "needs_background": "light"
          }
        },
        {
          "output_type": "display_data",
          "data": {
            "image/png": "[encoded data removed]",
            "text/plain": [
              "<Figure size 432x288 with 1 Axes>"
            ]
          },
          "metadata": {
            "needs_background": "light"
          }
        }
      ]
    },
    {
      "cell_type": "markdown",
      "metadata": {
        "id": "CIQkxeRsdGRq"
      },
      "source": [
        "##Conclusão"
      ]
    },
    {
      "cell_type": "markdown",
      "metadata": {
        "id": "tWIJ8zuwdIh6"
      },
      "source": [
        "Para o estudo pegamos o modelo binário de classificação, para cogumelos venenosos ou não, pelas características físicas do fungo. Ao aplicar as técnicas de Hiperparâmetros, podemos verificar as diferenças entre o modelo anterior definidas manualmente, logo podemos notar que foi definido um valor maior de épocas de treinamento para o modelo, um número menor de neurônios no total, um learn rate menor. \n",
        "\n",
        "Os parâmetros mantiveram o mesmo valor de acurácia obtido do anterior, porém gastando menos recurso da maquina, porém levando muito mais tempo de processamento que o anterior, ja que para analisar quais seriam os melhores parâmetros, a pesquisa de melhores valores para hiperparâmetros levou 5 minutos. Entretanto o modelo quando executado pela segunda vez é possível perceber que não segue o mesmo tempo, pois o mesmo coleta os dados do arquivo que foi gerado na execução anterior após a análise dos valores.\n",
        "\n",
        "Acredito que o modelo é uma boa opção inicial, usado para obter os primeiros parâmetros ao rodar a primeira vez. Com o amadurecimento do modelo, da base de treino/teste e das diretrizes do uso, os valores dos parâmetros podem ser coletados e refinados manualmente para melhor se adequar ao case."
      ]
    }
  ]
}