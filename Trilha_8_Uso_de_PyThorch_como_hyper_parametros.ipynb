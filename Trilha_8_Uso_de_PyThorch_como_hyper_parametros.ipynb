{
  "nbformat": 4,
  "nbformat_minor": 0,
  "metadata": {
    "colab": {
      "name": "Trilha 8: Uso de PyThorch como hyper-parametros.ipynb",
      "provenance": [],
      "collapsed_sections": [],
      "authorship_tag": "ABX9TyMWbj+BjATpar9EWV5xofT7",
      "include_colab_link": true
    },
    "kernelspec": {
      "name": "python3",
      "display_name": "Python 3"
    },
    "language_info": {
      "name": "python"
    }
  },
  "cells": [
    {
      "cell_type": "markdown",
      "metadata": {
        "id": "view-in-github",
        "colab_type": "text"
      },
      "source": [
        "<a href=\"https://colab.research.google.com/github/marceloccs/deep_learning_pos_ai/blob/main/Trilha_8_Uso_de_PyThorch_como_hyper_parametros.ipynb\" target=\"_parent\"><img src=\"https://colab.research.google.com/assets/colab-badge.svg\" alt=\"Open In Colab\"/></a>"
      ]
    },
    {
      "cell_type": "markdown",
      "metadata": {
        "id": "QR-oCoD1U1kJ"
      },
      "source": [
        "#**Nome:** Marcelo Custodio Cruz Silva\n",
        "\n",
        "##**Matricula:** 92123341\n",
        "\n",
        "---\n",
        "\n",
        "##**Curso:** Inteligencia Artificial\n",
        "\n",
        "##**Turma:** B\n",
        "\n",
        "*Link do arquivo no google colabs: https://colab.research.google.com/drive/1Ty1NDVfJz3C57bwZiaujLR4GgjIhlPWn?usp=sharing*\n",
        "\n",
        "*Link do arquivo no github: https://github.com/marceloccs/deep_learning_pos_ai/blob/main/Trilha_4_Uso_de_TF_como_tensor_Final.ipynb* "
      ]
    },
    {
      "cell_type": "markdown",
      "metadata": {
        "id": "xRu7DulSc2tZ"
      },
      "source": [
        "#Trilha 8: Tarefa\n",
        "\n",
        "Nesta tarefa você fará o ajuste automático dos hiperparâmetros do modelo TensorFlow que você desenvolveu na atividade da Trilha 4. O resultado do seu modelo deve ser acima de 0.8 de acuracidade sobre o conjunto de teste (0.3 dos dados de treinamento). Mostre sua seleção de valores de hiperparâmetros e os resultados apresentados ao final indicando a diferença obtida com relação ao modelo original.   \n",
        "\n",
        " \n",
        "\n",
        "Se preferir, você pode fazer o tunning dos hiperparâmetros em PyTorch empregando a atividade da Trilha 6 como modelo inicial. \n",
        "\n",
        " \n",
        "\n",
        "Ao final, apresente as suas conclusões. \n",
        "\n",
        "\n",
        "\n",
        "Enviar a atividade em .pdf juntamente com o endereço do Python notebook 100% executável. "
      ]
    },
    {
      "cell_type": "markdown",
      "metadata": {
        "id": "_yHNvN7lWcGA"
      },
      "source": [
        "##Preparos iniciais do modelo"
      ]
    },
    {
      "cell_type": "markdown",
      "metadata": {
        "id": "YWBlCm1EeS0w"
      },
      "source": [
        "###Imports para dependencias necessarias ao decorrer do modelo."
      ]
    },
    {
      "cell_type": "code",
      "metadata": {
        "id": "jSVsFGuMeZ8w"
      },
      "source": [
        "#Manipulação de dados\n",
        "import pandas as pd\n",
        "import numpy as np\n",
        "import matplotlib.pyplot as plt\n",
        "#Tnsorflow\n",
        "import tensorflow as tf\n",
        "from tensorflow import keras\n",
        "from tensorflow.keras import layers\n",
        "#Sklearn\n",
        "from sklearn.model_selection import train_test_split\n",
        "from sklearn.metrics import confusion_matrix, classification_report, accuracy_score\n",
        "from sklearn.preprocessing import LabelEncoder\n",
        "#Auxiliar para leitura e print de dados\n",
        "from IPython.display import display"
      ],
      "execution_count": null,
      "outputs": []
    },
    {
      "cell_type": "markdown",
      "metadata": {
        "id": "tkjT9qbxerzw"
      },
      "source": [
        "###Leitura do arquivo para predição de cogumelos."
      ]
    },
    {
      "cell_type": "markdown",
      "metadata": {
        "id": "h6BcwhX5gij6"
      },
      "source": [
        "*Modelo de classificação binária para identificação se o cogumelo, pelas suas características físicas, é comestível ou venenoso.*"
      ]
    },
    {
      "cell_type": "markdown",
      "metadata": {
        "id": "Lc7NobOpd-kw"
      },
      "source": [
        "**Link Kaggle:** https://archive.ics.uci.edu/ml/datasets/Mushroom\n",
        "\n",
        "**Link Github:** https://raw.githubusercontent.com/marceloccs/pos-ai-files/main/Trilha%204%20Uso%20de%20tensores%20com%20TenserFlow/agaricus-lepiota.data"
      ]
    },
    {
      "cell_type": "markdown",
      "metadata": {
        "id": "qzumCONFeOBY"
      },
      "source": [
        "A seguir é utilizado um dataset contendo diversas especies de cogumelos, as características vão ser utilizadas para definir se o cogumelo é venenoso ou comestível. Para realizar esse predição é utilizado o modelo de classificação binária."
      ]
    },
    {
      "cell_type": "code",
      "metadata": {
        "colab": {
          "base_uri": "https://localhost:8080/",
          "height": 226
        },
        "id": "FbzuOfplXnWQ",
        "outputId": "da3cbbbd-603a-417f-b4ef-13b0a1147592"
      },
      "source": [
        "df = pd.read_csv('https://raw.githubusercontent.com/marceloccs/pos-ai-files/main/Trilha%204%20Uso%20de%20tensores%20com%20TenserFlow/agaricus-lepiota.data')\n",
        "df = df.dropna()\n",
        "display(df.head())"
      ],
      "execution_count": null,
      "outputs": [
        {
          "output_type": "display_data",
          "data": {
            "text/html": [
              "<div>\n",
              "<style scoped>\n",
              "    .dataframe tbody tr th:only-of-type {\n",
              "        vertical-align: middle;\n",
              "    }\n",
              "\n",
              "    .dataframe tbody tr th {\n",
              "        vertical-align: top;\n",
              "    }\n",
              "\n",
              "    .dataframe thead th {\n",
              "        text-align: right;\n",
              "    }\n",
              "</style>\n",
              "<table border=\"1\" class=\"dataframe\">\n",
              "  <thead>\n",
              "    <tr style=\"text-align: right;\">\n",
              "      <th></th>\n",
              "      <th>classe</th>\n",
              "      <th>cap_shape</th>\n",
              "      <th>cap_surface</th>\n",
              "      <th>cap_color</th>\n",
              "      <th>bruises</th>\n",
              "      <th>odor</th>\n",
              "      <th>gill_attachment</th>\n",
              "      <th>gill_spacing</th>\n",
              "      <th>gill_size</th>\n",
              "      <th>gill_color</th>\n",
              "      <th>stalk_shape</th>\n",
              "      <th>stalk_root</th>\n",
              "      <th>stalk_surface_above_ring</th>\n",
              "      <th>stalk_surface_below_ring</th>\n",
              "      <th>stalk_color_above_ring</th>\n",
              "      <th>stalk_color_below_ring</th>\n",
              "      <th>veil_type</th>\n",
              "      <th>veil_color</th>\n",
              "      <th>ring_number</th>\n",
              "      <th>ring_type</th>\n",
              "      <th>spore_print_color</th>\n",
              "      <th>population</th>\n",
              "      <th>habitat</th>\n",
              "    </tr>\n",
              "  </thead>\n",
              "  <tbody>\n",
              "    <tr>\n",
              "      <th>0</th>\n",
              "      <td>p</td>\n",
              "      <td>x</td>\n",
              "      <td>s</td>\n",
              "      <td>n</td>\n",
              "      <td>t</td>\n",
              "      <td>p</td>\n",
              "      <td>f</td>\n",
              "      <td>c</td>\n",
              "      <td>n</td>\n",
              "      <td>k</td>\n",
              "      <td>e</td>\n",
              "      <td>e</td>\n",
              "      <td>s</td>\n",
              "      <td>s</td>\n",
              "      <td>w</td>\n",
              "      <td>w</td>\n",
              "      <td>p</td>\n",
              "      <td>w</td>\n",
              "      <td>o</td>\n",
              "      <td>p</td>\n",
              "      <td>k</td>\n",
              "      <td>s</td>\n",
              "      <td>u</td>\n",
              "    </tr>\n",
              "    <tr>\n",
              "      <th>1</th>\n",
              "      <td>e</td>\n",
              "      <td>x</td>\n",
              "      <td>s</td>\n",
              "      <td>y</td>\n",
              "      <td>t</td>\n",
              "      <td>a</td>\n",
              "      <td>f</td>\n",
              "      <td>c</td>\n",
              "      <td>b</td>\n",
              "      <td>k</td>\n",
              "      <td>e</td>\n",
              "      <td>c</td>\n",
              "      <td>s</td>\n",
              "      <td>s</td>\n",
              "      <td>w</td>\n",
              "      <td>w</td>\n",
              "      <td>p</td>\n",
              "      <td>w</td>\n",
              "      <td>o</td>\n",
              "      <td>p</td>\n",
              "      <td>n</td>\n",
              "      <td>n</td>\n",
              "      <td>g</td>\n",
              "    </tr>\n",
              "    <tr>\n",
              "      <th>2</th>\n",
              "      <td>e</td>\n",
              "      <td>b</td>\n",
              "      <td>s</td>\n",
              "      <td>w</td>\n",
              "      <td>t</td>\n",
              "      <td>l</td>\n",
              "      <td>f</td>\n",
              "      <td>c</td>\n",
              "      <td>b</td>\n",
              "      <td>n</td>\n",
              "      <td>e</td>\n",
              "      <td>c</td>\n",
              "      <td>s</td>\n",
              "      <td>s</td>\n",
              "      <td>w</td>\n",
              "      <td>w</td>\n",
              "      <td>p</td>\n",
              "      <td>w</td>\n",
              "      <td>o</td>\n",
              "      <td>p</td>\n",
              "      <td>n</td>\n",
              "      <td>n</td>\n",
              "      <td>m</td>\n",
              "    </tr>\n",
              "    <tr>\n",
              "      <th>3</th>\n",
              "      <td>p</td>\n",
              "      <td>x</td>\n",
              "      <td>y</td>\n",
              "      <td>w</td>\n",
              "      <td>t</td>\n",
              "      <td>p</td>\n",
              "      <td>f</td>\n",
              "      <td>c</td>\n",
              "      <td>n</td>\n",
              "      <td>n</td>\n",
              "      <td>e</td>\n",
              "      <td>e</td>\n",
              "      <td>s</td>\n",
              "      <td>s</td>\n",
              "      <td>w</td>\n",
              "      <td>w</td>\n",
              "      <td>p</td>\n",
              "      <td>w</td>\n",
              "      <td>o</td>\n",
              "      <td>p</td>\n",
              "      <td>k</td>\n",
              "      <td>s</td>\n",
              "      <td>u</td>\n",
              "    </tr>\n",
              "    <tr>\n",
              "      <th>4</th>\n",
              "      <td>e</td>\n",
              "      <td>x</td>\n",
              "      <td>s</td>\n",
              "      <td>g</td>\n",
              "      <td>f</td>\n",
              "      <td>n</td>\n",
              "      <td>f</td>\n",
              "      <td>w</td>\n",
              "      <td>b</td>\n",
              "      <td>k</td>\n",
              "      <td>t</td>\n",
              "      <td>e</td>\n",
              "      <td>s</td>\n",
              "      <td>s</td>\n",
              "      <td>w</td>\n",
              "      <td>w</td>\n",
              "      <td>p</td>\n",
              "      <td>w</td>\n",
              "      <td>o</td>\n",
              "      <td>e</td>\n",
              "      <td>n</td>\n",
              "      <td>a</td>\n",
              "      <td>g</td>\n",
              "    </tr>\n",
              "  </tbody>\n",
              "</table>\n",
              "</div>"
            ],
            "text/plain": [
              "  classe cap_shape cap_surface  ... spore_print_color population habitat\n",
              "0      p         x           s  ...                 k          s       u\n",
              "1      e         x           s  ...                 n          n       g\n",
              "2      e         b           s  ...                 n          n       m\n",
              "3      p         x           y  ...                 k          s       u\n",
              "4      e         x           s  ...                 n          a       g\n",
              "\n",
              "[5 rows x 23 columns]"
            ]
          },
          "metadata": {}
        }
      ]
    },
    {
      "cell_type": "markdown",
      "metadata": {
        "id": "gTCmITzDYjZ_"
      },
      "source": [
        "###Informações de atributos: \n",
        "\n"
      ]
    },
    {
      "cell_type": "markdown",
      "metadata": {
        "id": "SLPMthaFZ8jA"
      },
      "source": [
        "     1. classes: comestíveis = e, venenosos = p\n",
        "     2. forma de capa: sino = b, cônico = c, convexo = x, plano = f,knobbed = k, sunken = s\n",
        "     3. superfície da capa: fibrosa = f, ranhuras = g, escamosa = y, lisa = s\n",
        "     4. cor da tampa: marrom = n, amarelo-claro = b, canela = c, cinza = g, verde = r, rosa = p, roxo = u, vermelho = e, branco = w, amarelo = y\n",
        "     5. hematomas ?: hematomas = t, não = f\n",
        "     6. odor: amêndoa = a, anis = l, creosoto = c, peixe = y, fétido = f, mofo = m, nenhum = n, picante = p, picante = s \n",
        "     7. anexo de brânquia: anexado = a, descendente = d, livre = f, entalhado = n\n",
        "     8. espaçamento entre guelras: próximo = c, lotado = w, distante = d\n",
        "     9. tamanho da guelra: largo = b, estreito = n\n",
        "     10. cor das guelras: preto = k, marrom = n, amarelo-claro = b, chocolate = h, cinza = g, verde = r, laranja = o, rosa = p, roxo = u, vermelho = e, branco = w, amarelo = y\n",
        "     11. formato de haste: ampliação = e, afilamento = t\n",
        "     12. raiz do caule: bulboso = b, clube = c, xícara = u, igual = e, rizomorfos = z, enraizado = r, ausente =?\n",
        "     13. superfície da haste acima do anel: fibroso = f, escamoso = y, sedoso = k, liso = s\n",
        "     14. superfície do caule abaixo do anel: fibroso = f, escamoso = y, sedoso = k, liso = s\n",
        "     15. haste-cor-acima do anel: marrom = n, amarelo-claro = b, canela = c, cinza = g, laranja = o, rosa = p, vermelho = e, branco = w, amarelo = y\n",
        "     16. cor-do-caule abaixo do anel: marrom = n, amarelo-claro = b, canela = c, cinza = g, laranja = o, rosa = p, vermelho = e, branco = w, amarelo = y\n",
        "     17. tipo de véu: parcial = p, universal = u \n",
        "     18. cor do véu: marrom = n, laranja = o, branco = w, amarelo = y\n",
        "     19. número do anel: nenhum = n, um = o, dois = t 19. tipo de anel: teia de aranha = c, evanescente = e, alargamento = f, grande = l, nenhum = n, pendente = p, revestimento = s, zona = z\n",
        "     20. spore-print-color: black = k, brown = n, buff = b, chocolate = h, green = r, laranja = o, roxo = u, branco = w, amarelo = y\n",
        "     21. população: abundante = a, agrupado = c, numeroso = n, espalhado = s, vários = v, solitário = y\n",
        "     22. habitat: gramíneas = g, folhas = l, prados = m, caminhos = p, urbano = u, desperdício = w, madeiras = d"
      ]
    },
    {
      "cell_type": "markdown",
      "metadata": {
        "id": "XlAcyxA4rtE0"
      },
      "source": [
        "###Contagem de cogumelos por classe:"
      ]
    },
    {
      "cell_type": "code",
      "metadata": {
        "id": "JDVtZ6pzruHc",
        "colab": {
          "base_uri": "https://localhost:8080/",
          "height": 69
        },
        "outputId": "033b4f1d-832d-4ab8-9c70-09c26f25fdd0"
      },
      "source": [
        "dfCount = df['classe'].value_counts()\n",
        "display(dfCount)"
      ],
      "execution_count": null,
      "outputs": [
        {
          "output_type": "display_data",
          "data": {
            "text/plain": [
              "e    4208\n",
              "p    3916\n",
              "Name: classe, dtype: int64"
            ]
          },
          "metadata": {}
        }
      ]
    },
    {
      "cell_type": "markdown",
      "metadata": {
        "id": "WCGAzgnyXxsQ"
      },
      "source": [
        "####Função Auxiliar para leitura descretização"
      ]
    },
    {
      "cell_type": "markdown",
      "metadata": {
        "id": "X9qGbPRCdhyl"
      },
      "source": [
        "*Como o modelo é para classificação binária, é necessario valores numéricos no modelo*\n",
        " \n",
        "A função abaixo faz um Labbel enconder por valores na coluna, realizando uma discretização de valores."
      ]
    },
    {
      "cell_type": "code",
      "metadata": {
        "id": "gqYU1BjwXvUv"
      },
      "source": [
        "def dataframeEncoding(dataframe):\n",
        "    le = LabelEncoder()\n",
        "    for i in range(len(dataframe.columns)):\n",
        "        le.fit(dataframe.iloc[:,i])\n",
        "        dataframe.iloc[:,i]  = le.transform(dataframe.iloc[:,i])\n",
        "    return dataframe"
      ],
      "execution_count": null,
      "outputs": []
    },
    {
      "cell_type": "code",
      "metadata": {
        "colab": {
          "base_uri": "https://localhost:8080/",
          "height": 226
        },
        "id": "10INffrJexw3",
        "outputId": "0425569e-1c88-4a9c-90e7-c840ca04c9ec"
      },
      "source": [
        "df = dataframeEncoding(df)\n",
        "display(df.head())"
      ],
      "execution_count": null,
      "outputs": [
        {
          "output_type": "display_data",
          "data": {
            "text/html": [
              "<div>\n",
              "<style scoped>\n",
              "    .dataframe tbody tr th:only-of-type {\n",
              "        vertical-align: middle;\n",
              "    }\n",
              "\n",
              "    .dataframe tbody tr th {\n",
              "        vertical-align: top;\n",
              "    }\n",
              "\n",
              "    .dataframe thead th {\n",
              "        text-align: right;\n",
              "    }\n",
              "</style>\n",
              "<table border=\"1\" class=\"dataframe\">\n",
              "  <thead>\n",
              "    <tr style=\"text-align: right;\">\n",
              "      <th></th>\n",
              "      <th>classe</th>\n",
              "      <th>cap_shape</th>\n",
              "      <th>cap_surface</th>\n",
              "      <th>cap_color</th>\n",
              "      <th>bruises</th>\n",
              "      <th>odor</th>\n",
              "      <th>gill_attachment</th>\n",
              "      <th>gill_spacing</th>\n",
              "      <th>gill_size</th>\n",
              "      <th>gill_color</th>\n",
              "      <th>stalk_shape</th>\n",
              "      <th>stalk_root</th>\n",
              "      <th>stalk_surface_above_ring</th>\n",
              "      <th>stalk_surface_below_ring</th>\n",
              "      <th>stalk_color_above_ring</th>\n",
              "      <th>stalk_color_below_ring</th>\n",
              "      <th>veil_type</th>\n",
              "      <th>veil_color</th>\n",
              "      <th>ring_number</th>\n",
              "      <th>ring_type</th>\n",
              "      <th>spore_print_color</th>\n",
              "      <th>population</th>\n",
              "      <th>habitat</th>\n",
              "    </tr>\n",
              "  </thead>\n",
              "  <tbody>\n",
              "    <tr>\n",
              "      <th>0</th>\n",
              "      <td>1</td>\n",
              "      <td>5</td>\n",
              "      <td>2</td>\n",
              "      <td>4</td>\n",
              "      <td>1</td>\n",
              "      <td>6</td>\n",
              "      <td>1</td>\n",
              "      <td>0</td>\n",
              "      <td>1</td>\n",
              "      <td>4</td>\n",
              "      <td>0</td>\n",
              "      <td>3</td>\n",
              "      <td>2</td>\n",
              "      <td>2</td>\n",
              "      <td>7</td>\n",
              "      <td>7</td>\n",
              "      <td>0</td>\n",
              "      <td>2</td>\n",
              "      <td>1</td>\n",
              "      <td>4</td>\n",
              "      <td>2</td>\n",
              "      <td>3</td>\n",
              "      <td>5</td>\n",
              "    </tr>\n",
              "    <tr>\n",
              "      <th>1</th>\n",
              "      <td>0</td>\n",
              "      <td>5</td>\n",
              "      <td>2</td>\n",
              "      <td>9</td>\n",
              "      <td>1</td>\n",
              "      <td>0</td>\n",
              "      <td>1</td>\n",
              "      <td>0</td>\n",
              "      <td>0</td>\n",
              "      <td>4</td>\n",
              "      <td>0</td>\n",
              "      <td>2</td>\n",
              "      <td>2</td>\n",
              "      <td>2</td>\n",
              "      <td>7</td>\n",
              "      <td>7</td>\n",
              "      <td>0</td>\n",
              "      <td>2</td>\n",
              "      <td>1</td>\n",
              "      <td>4</td>\n",
              "      <td>3</td>\n",
              "      <td>2</td>\n",
              "      <td>1</td>\n",
              "    </tr>\n",
              "    <tr>\n",
              "      <th>2</th>\n",
              "      <td>0</td>\n",
              "      <td>0</td>\n",
              "      <td>2</td>\n",
              "      <td>8</td>\n",
              "      <td>1</td>\n",
              "      <td>3</td>\n",
              "      <td>1</td>\n",
              "      <td>0</td>\n",
              "      <td>0</td>\n",
              "      <td>5</td>\n",
              "      <td>0</td>\n",
              "      <td>2</td>\n",
              "      <td>2</td>\n",
              "      <td>2</td>\n",
              "      <td>7</td>\n",
              "      <td>7</td>\n",
              "      <td>0</td>\n",
              "      <td>2</td>\n",
              "      <td>1</td>\n",
              "      <td>4</td>\n",
              "      <td>3</td>\n",
              "      <td>2</td>\n",
              "      <td>3</td>\n",
              "    </tr>\n",
              "    <tr>\n",
              "      <th>3</th>\n",
              "      <td>1</td>\n",
              "      <td>5</td>\n",
              "      <td>3</td>\n",
              "      <td>8</td>\n",
              "      <td>1</td>\n",
              "      <td>6</td>\n",
              "      <td>1</td>\n",
              "      <td>0</td>\n",
              "      <td>1</td>\n",
              "      <td>5</td>\n",
              "      <td>0</td>\n",
              "      <td>3</td>\n",
              "      <td>2</td>\n",
              "      <td>2</td>\n",
              "      <td>7</td>\n",
              "      <td>7</td>\n",
              "      <td>0</td>\n",
              "      <td>2</td>\n",
              "      <td>1</td>\n",
              "      <td>4</td>\n",
              "      <td>2</td>\n",
              "      <td>3</td>\n",
              "      <td>5</td>\n",
              "    </tr>\n",
              "    <tr>\n",
              "      <th>4</th>\n",
              "      <td>0</td>\n",
              "      <td>5</td>\n",
              "      <td>2</td>\n",
              "      <td>3</td>\n",
              "      <td>0</td>\n",
              "      <td>5</td>\n",
              "      <td>1</td>\n",
              "      <td>1</td>\n",
              "      <td>0</td>\n",
              "      <td>4</td>\n",
              "      <td>1</td>\n",
              "      <td>3</td>\n",
              "      <td>2</td>\n",
              "      <td>2</td>\n",
              "      <td>7</td>\n",
              "      <td>7</td>\n",
              "      <td>0</td>\n",
              "      <td>2</td>\n",
              "      <td>1</td>\n",
              "      <td>0</td>\n",
              "      <td>3</td>\n",
              "      <td>0</td>\n",
              "      <td>1</td>\n",
              "    </tr>\n",
              "  </tbody>\n",
              "</table>\n",
              "</div>"
            ],
            "text/plain": [
              "   classe  cap_shape  cap_surface  ...  spore_print_color  population  habitat\n",
              "0       1          5            2  ...                  2           3        5\n",
              "1       0          5            2  ...                  3           2        1\n",
              "2       0          0            2  ...                  3           2        3\n",
              "3       1          5            3  ...                  2           3        5\n",
              "4       0          5            2  ...                  3           0        1\n",
              "\n",
              "[5 rows x 23 columns]"
            ]
          },
          "metadata": {}
        }
      ]
    },
    {
      "cell_type": "markdown",
      "metadata": {
        "id": "0L9gHLfEXZwl"
      },
      "source": [
        "##Inicio do modelo, treinamento e resultado  "
      ]
    },
    {
      "cell_type": "markdown",
      "metadata": {
        "id": "tpHrpQpivNNU"
      },
      "source": [
        "###Separação de modelos de teste e de treinamento"
      ]
    },
    {
      "cell_type": "markdown",
      "metadata": {
        "id": "p7sScvr5iC9q"
      },
      "source": [
        "*Separando os grupos de teste e treino, com o tamanho de teste de 30% (ou 0.3) do modelo todo*"
      ]
    },
    {
      "cell_type": "code",
      "metadata": {
        "colab": {
          "base_uri": "https://localhost:8080/",
          "height": 415
        },
        "id": "D3vVJMPHurS0",
        "outputId": "f691adc5-813d-4734-88a6-7acfc78e670a"
      },
      "source": [
        "dfClassificacao = df.copy()\n",
        "X = dfClassificacao.drop('classe', axis=1)\n",
        "y = dfClassificacao[['classe']]\n",
        "X_train, X_test, y_train, y_test = train_test_split(X, y, test_size=0.3, random_state=6)\n",
        "display(X_train.head())\n",
        "display(y_train.head())"
      ],
      "execution_count": null,
      "outputs": [
        {
          "output_type": "display_data",
          "data": {
            "text/html": [
              "<div>\n",
              "<style scoped>\n",
              "    .dataframe tbody tr th:only-of-type {\n",
              "        vertical-align: middle;\n",
              "    }\n",
              "\n",
              "    .dataframe tbody tr th {\n",
              "        vertical-align: top;\n",
              "    }\n",
              "\n",
              "    .dataframe thead th {\n",
              "        text-align: right;\n",
              "    }\n",
              "</style>\n",
              "<table border=\"1\" class=\"dataframe\">\n",
              "  <thead>\n",
              "    <tr style=\"text-align: right;\">\n",
              "      <th></th>\n",
              "      <th>cap_shape</th>\n",
              "      <th>cap_surface</th>\n",
              "      <th>cap_color</th>\n",
              "      <th>bruises</th>\n",
              "      <th>odor</th>\n",
              "      <th>gill_attachment</th>\n",
              "      <th>gill_spacing</th>\n",
              "      <th>gill_size</th>\n",
              "      <th>gill_color</th>\n",
              "      <th>stalk_shape</th>\n",
              "      <th>stalk_root</th>\n",
              "      <th>stalk_surface_above_ring</th>\n",
              "      <th>stalk_surface_below_ring</th>\n",
              "      <th>stalk_color_above_ring</th>\n",
              "      <th>stalk_color_below_ring</th>\n",
              "      <th>veil_type</th>\n",
              "      <th>veil_color</th>\n",
              "      <th>ring_number</th>\n",
              "      <th>ring_type</th>\n",
              "      <th>spore_print_color</th>\n",
              "      <th>population</th>\n",
              "      <th>habitat</th>\n",
              "    </tr>\n",
              "  </thead>\n",
              "  <tbody>\n",
              "    <tr>\n",
              "      <th>716</th>\n",
              "      <td>0</td>\n",
              "      <td>2</td>\n",
              "      <td>8</td>\n",
              "      <td>1</td>\n",
              "      <td>3</td>\n",
              "      <td>1</td>\n",
              "      <td>0</td>\n",
              "      <td>0</td>\n",
              "      <td>4</td>\n",
              "      <td>0</td>\n",
              "      <td>2</td>\n",
              "      <td>2</td>\n",
              "      <td>2</td>\n",
              "      <td>7</td>\n",
              "      <td>7</td>\n",
              "      <td>0</td>\n",
              "      <td>2</td>\n",
              "      <td>1</td>\n",
              "      <td>4</td>\n",
              "      <td>3</td>\n",
              "      <td>3</td>\n",
              "      <td>3</td>\n",
              "    </tr>\n",
              "    <tr>\n",
              "      <th>36</th>\n",
              "      <td>4</td>\n",
              "      <td>0</td>\n",
              "      <td>3</td>\n",
              "      <td>0</td>\n",
              "      <td>5</td>\n",
              "      <td>1</td>\n",
              "      <td>0</td>\n",
              "      <td>1</td>\n",
              "      <td>4</td>\n",
              "      <td>0</td>\n",
              "      <td>3</td>\n",
              "      <td>2</td>\n",
              "      <td>2</td>\n",
              "      <td>7</td>\n",
              "      <td>7</td>\n",
              "      <td>0</td>\n",
              "      <td>2</td>\n",
              "      <td>1</td>\n",
              "      <td>4</td>\n",
              "      <td>2</td>\n",
              "      <td>4</td>\n",
              "      <td>5</td>\n",
              "    </tr>\n",
              "    <tr>\n",
              "      <th>336</th>\n",
              "      <td>5</td>\n",
              "      <td>3</td>\n",
              "      <td>4</td>\n",
              "      <td>1</td>\n",
              "      <td>0</td>\n",
              "      <td>1</td>\n",
              "      <td>0</td>\n",
              "      <td>0</td>\n",
              "      <td>10</td>\n",
              "      <td>0</td>\n",
              "      <td>4</td>\n",
              "      <td>2</td>\n",
              "      <td>3</td>\n",
              "      <td>7</td>\n",
              "      <td>7</td>\n",
              "      <td>0</td>\n",
              "      <td>2</td>\n",
              "      <td>1</td>\n",
              "      <td>4</td>\n",
              "      <td>2</td>\n",
              "      <td>5</td>\n",
              "      <td>1</td>\n",
              "    </tr>\n",
              "    <tr>\n",
              "      <th>8084</th>\n",
              "      <td>0</td>\n",
              "      <td>0</td>\n",
              "      <td>3</td>\n",
              "      <td>0</td>\n",
              "      <td>5</td>\n",
              "      <td>1</td>\n",
              "      <td>1</td>\n",
              "      <td>0</td>\n",
              "      <td>7</td>\n",
              "      <td>0</td>\n",
              "      <td>0</td>\n",
              "      <td>1</td>\n",
              "      <td>1</td>\n",
              "      <td>7</td>\n",
              "      <td>7</td>\n",
              "      <td>0</td>\n",
              "      <td>2</td>\n",
              "      <td>2</td>\n",
              "      <td>4</td>\n",
              "      <td>7</td>\n",
              "      <td>3</td>\n",
              "      <td>1</td>\n",
              "    </tr>\n",
              "    <tr>\n",
              "      <th>960</th>\n",
              "      <td>5</td>\n",
              "      <td>0</td>\n",
              "      <td>4</td>\n",
              "      <td>0</td>\n",
              "      <td>5</td>\n",
              "      <td>1</td>\n",
              "      <td>1</td>\n",
              "      <td>0</td>\n",
              "      <td>5</td>\n",
              "      <td>1</td>\n",
              "      <td>3</td>\n",
              "      <td>0</td>\n",
              "      <td>0</td>\n",
              "      <td>7</td>\n",
              "      <td>7</td>\n",
              "      <td>0</td>\n",
              "      <td>2</td>\n",
              "      <td>1</td>\n",
              "      <td>0</td>\n",
              "      <td>2</td>\n",
              "      <td>0</td>\n",
              "      <td>1</td>\n",
              "    </tr>\n",
              "  </tbody>\n",
              "</table>\n",
              "</div>"
            ],
            "text/plain": [
              "      cap_shape  cap_surface  cap_color  ...  spore_print_color  population  habitat\n",
              "716           0            2          8  ...                  3           3        3\n",
              "36            4            0          3  ...                  2           4        5\n",
              "336           5            3          4  ...                  2           5        1\n",
              "8084          0            0          3  ...                  7           3        1\n",
              "960           5            0          4  ...                  2           0        1\n",
              "\n",
              "[5 rows x 22 columns]"
            ]
          },
          "metadata": {}
        },
        {
          "output_type": "display_data",
          "data": {
            "text/html": [
              "<div>\n",
              "<style scoped>\n",
              "    .dataframe tbody tr th:only-of-type {\n",
              "        vertical-align: middle;\n",
              "    }\n",
              "\n",
              "    .dataframe tbody tr th {\n",
              "        vertical-align: top;\n",
              "    }\n",
              "\n",
              "    .dataframe thead th {\n",
              "        text-align: right;\n",
              "    }\n",
              "</style>\n",
              "<table border=\"1\" class=\"dataframe\">\n",
              "  <thead>\n",
              "    <tr style=\"text-align: right;\">\n",
              "      <th></th>\n",
              "      <th>classe</th>\n",
              "    </tr>\n",
              "  </thead>\n",
              "  <tbody>\n",
              "    <tr>\n",
              "      <th>716</th>\n",
              "      <td>0</td>\n",
              "    </tr>\n",
              "    <tr>\n",
              "      <th>36</th>\n",
              "      <td>0</td>\n",
              "    </tr>\n",
              "    <tr>\n",
              "      <th>336</th>\n",
              "      <td>0</td>\n",
              "    </tr>\n",
              "    <tr>\n",
              "      <th>8084</th>\n",
              "      <td>0</td>\n",
              "    </tr>\n",
              "    <tr>\n",
              "      <th>960</th>\n",
              "      <td>0</td>\n",
              "    </tr>\n",
              "  </tbody>\n",
              "</table>\n",
              "</div>"
            ],
            "text/plain": [
              "      classe\n",
              "716        0\n",
              "36         0\n",
              "336        0\n",
              "8084       0\n",
              "960        0"
            ]
          },
          "metadata": {}
        }
      ]
    },
    {
      "cell_type": "markdown",
      "metadata": {
        "id": "MOpcDplHXRa5"
      },
      "source": [
        "###Modelo de aprendizado binario"
      ]
    },
    {
      "cell_type": "markdown",
      "metadata": {
        "id": "I1qCEPMUhWYF"
      },
      "source": [
        "**Abaixo o modelo criado possui 4 camadas**\n",
        "1.   Camada com sigmoid, para trabalhar com valores de classes binaria e valores numéricos. *Valores de entrada e de neurônios com o tamanho de colunas do conjunto de treino com as características numéricas*\n",
        "2.   Camada de regressão linear.\n",
        "3.   Camada para Dropout, para evitar o overfitting do modelo.\n",
        "4.   Camada de saída com sigmoid novamente. *Criado com o valor de entrada de neurônios com o a quantidade de colunas do conjunto de treinamento com os valores de classe*\n",
        "\n",
        "**Função de perda é utilizado o \"*binary_crossentropy*\", como otimizado do modelo o \"*adam*\" e a métrica de \"*accuracy*\" para demonstração da efetividade do modelo**"
      ]
    },
    {
      "cell_type": "code",
      "metadata": {
        "colab": {
          "base_uri": "https://localhost:8080/"
        },
        "id": "HwfyHpl9v0cl",
        "outputId": "0ac16f20-20ba-402e-b2e5-98963769272c"
      },
      "source": [
        "model = keras.Sequential([\n",
        "    layers.Dense(X_train.shape[1],activation='sigmoid', input_shape=[X_train.shape[1]]),\n",
        "    layers.Dense(X_train.shape[1]/2,activation='relu' ),\n",
        "    layers.Dropout(0.5),\n",
        "    layers.Dense(y_train.shape[1],activation='sigmoid')\n",
        "])\n",
        "\n",
        "model.compile(loss = 'binary_crossentropy', optimizer = 'adam', metrics=['accuracy'])\n",
        "history = model.fit(np.array(X_train).astype(\"int\"),np.array(y_train).astype(\"int\"),validation_split=0.3,epochs=10,batch_size=32)"
      ],
      "execution_count": null,
      "outputs": [
        {
          "output_type": "stream",
          "name": "stdout",
          "text": [
            "Epoch 1/10\n",
            "125/125 [==============================] - 1s 4ms/step - loss: 0.6564 - accuracy: 0.6113 - val_loss: 0.5479 - val_accuracy: 0.8329\n",
            "Epoch 2/10\n",
            "125/125 [==============================] - 0s 3ms/step - loss: 0.5206 - accuracy: 0.7822 - val_loss: 0.4285 - val_accuracy: 0.8710\n",
            "Epoch 3/10\n",
            "125/125 [==============================] - 0s 2ms/step - loss: 0.4333 - accuracy: 0.8271 - val_loss: 0.3301 - val_accuracy: 0.8875\n",
            "Epoch 4/10\n",
            "125/125 [==============================] - 0s 3ms/step - loss: 0.3683 - accuracy: 0.8560 - val_loss: 0.2687 - val_accuracy: 0.9115\n",
            "Epoch 5/10\n",
            "125/125 [==============================] - 0s 3ms/step - loss: 0.3321 - accuracy: 0.8761 - val_loss: 0.2246 - val_accuracy: 0.9302\n",
            "Epoch 6/10\n",
            "125/125 [==============================] - 0s 3ms/step - loss: 0.2961 - accuracy: 0.8894 - val_loss: 0.1949 - val_accuracy: 0.9467\n",
            "Epoch 7/10\n",
            "125/125 [==============================] - 0s 2ms/step - loss: 0.2782 - accuracy: 0.8962 - val_loss: 0.1768 - val_accuracy: 0.9455\n",
            "Epoch 8/10\n",
            "125/125 [==============================] - 0s 2ms/step - loss: 0.2454 - accuracy: 0.9098 - val_loss: 0.1561 - val_accuracy: 0.9549\n",
            "Epoch 9/10\n",
            "125/125 [==============================] - 0s 2ms/step - loss: 0.2345 - accuracy: 0.9153 - val_loss: 0.1433 - val_accuracy: 0.9519\n",
            "Epoch 10/10\n",
            "125/125 [==============================] - 0s 2ms/step - loss: 0.2143 - accuracy: 0.9214 - val_loss: 0.1287 - val_accuracy: 0.9555\n"
          ]
        }
      ]
    },
    {
      "cell_type": "markdown",
      "metadata": {
        "id": "jgDn5s5tXIPh"
      },
      "source": [
        "###Funções de auxilio para visualização do resultado do modelo."
      ]
    },
    {
      "cell_type": "code",
      "metadata": {
        "id": "8cyBpa392kMF"
      },
      "source": [
        "def display_acc_hist(history):\n",
        "  history_df = pd.DataFrame(history.history)\n",
        "  print('\\n\\nLearning Curve... \\n\\n')\n",
        "  print('\\n', history_df.head())\n",
        "  # Start the plot at epoch 0\n",
        "  history_df.loc[0:, ['loss', 'val_loss']].plot()\n",
        "  history_df.loc[0:, [history_df.columns[1], history_df.columns[3]]].plot()\n",
        "\n",
        "  print((\"\\nBest Validation Loss: {:0.4f}\" +\\\n",
        "      \"\\nBest Validation Accuracy: {:0.4f}\")\\\n",
        "      .format(history_df[history_df.columns[2]].min(), \n",
        "              history_df[history_df.columns[3]].max()))\n",
        "  print('\\n ')\n",
        "  return\n",
        "\n",
        "def print_results(y_test, y_pred):\n",
        "  print('\\nClassification Report: \\n\\n', classification_report(y_test, y_pred))\n",
        "  print('\\nAccuracy Score: \\n\\n', accuracy_score(y_test, y_pred), '\\n')\n",
        "  return"
      ],
      "execution_count": null,
      "outputs": []
    },
    {
      "cell_type": "markdown",
      "metadata": {
        "id": "rtV_-JHHbgxZ"
      },
      "source": [
        "###Resultado do aprendizado:"
      ]
    },
    {
      "cell_type": "code",
      "metadata": {
        "colab": {
          "base_uri": "https://localhost:8080/",
          "height": 1000
        },
        "id": "_wKb1K2mbjnH",
        "outputId": "ff2d91f3-d519-430b-84cb-5ab127349a25"
      },
      "source": [
        "y_pred_one = np.argmax(model.predict(X_test), axis=1)\n",
        "y_test_one = np.argmax(np.array(y_test), axis=1)\n",
        "\n",
        "print_results(y_test_one, y_pred_one)\n",
        "display_acc_hist(history)"
      ],
      "execution_count": null,
      "outputs": [
        {
          "output_type": "stream",
          "name": "stdout",
          "text": [
            "\n",
            "Classification Report: \n",
            "\n",
            "               precision    recall  f1-score   support\n",
            "\n",
            "           0       1.00      1.00      1.00      2438\n",
            "\n",
            "    accuracy                           1.00      2438\n",
            "   macro avg       1.00      1.00      1.00      2438\n",
            "weighted avg       1.00      1.00      1.00      2438\n",
            "\n",
            "\n",
            "Accuracy Score: \n",
            "\n",
            " 1.0 \n",
            "\n",
            "\n",
            "\n",
            "Learning Curve... \n",
            "\n",
            "\n",
            "\n",
            "        loss  accuracy  val_loss  val_accuracy\n",
            "0  0.656364  0.611307  0.547895      0.832943\n",
            "1  0.520570  0.782161  0.428492      0.871043\n",
            "2  0.433327  0.827136  0.330065      0.887456\n",
            "3  0.368253  0.856030  0.268707      0.911489\n",
            "4  0.332091  0.876131  0.224604      0.930246\n",
            "\n",
            "Best Validation Loss: 0.1287\n",
            "Best Validation Accuracy: 0.9555\n",
            "\n",
            " \n"
          ]
        },
        {
          "output_type": "display_data",
          "data": {
            "image/png": "[encoded data removed]",
            "text/plain": [
              "<Figure size 432x288 with 1 Axes>"
            ]
          },
          "metadata": {
            "needs_background": "light"
          }
        },
        {
          "output_type": "display_data",
          "data": {
            "image/png": "[encoded data removed]",
            "text/plain": [
              "<Figure size 432x288 with 1 Axes>"
            ]
          },
          "metadata": {
            "needs_background": "light"
          }
        }
      ]
    },
    {
      "cell_type": "markdown",
      "metadata": {
        "id": "CIQkxeRsdGRq"
      },
      "source": [
        "##Conclusão"
      ]
    },
    {
      "cell_type": "markdown",
      "metadata": {
        "id": "tWIJ8zuwdIh6"
      },
      "source": [
        "O modelo de classificação binária apresentou bons resultados ao modelo utilizado, pois o mesmo possui características bem distintas entre cada uma das classes, cogumelo comestível ou venenoso. Antes de iniciar o trabalho com esse modelo, foram iniciados outros trabalhos de classificação para modelos de Cervejas e para o modelo de estilos musicais. Nos modelos anteriores não apresentaram muita acurácia, por esse motivo foram descartados, o ocorrido se justifica pois as classes presentes de cada modelo não continham em seus elementos, informações muito distinuantes que enfatizavam as características de cada uma das classes.\n",
        "\n",
        "O modelo de classificação binária para identificação de cogumelos, se comestivel ou venenosos, apresentou uma performance de 0.94 (ou 94%) de acurácia durante seu treinamento, um valor alto mesmo usando uma camada de Dropout. O modelo apresentou valores ainda melhores durante o teste, onde não errou os resultados apresentados."
      ]
    }
  ]
}