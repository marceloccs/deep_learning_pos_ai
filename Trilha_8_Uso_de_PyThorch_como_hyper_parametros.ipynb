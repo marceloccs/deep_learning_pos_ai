{
  "nbformat": 4,
  "nbformat_minor": 0,
  "metadata": {
    "colab": {
      "name": "Trilha 8: Uso de PyThorch como hyper-parametros.ipynb",
      "provenance": [],
      "collapsed_sections": [
        "QR-oCoD1U1kJ",
        "YWBlCm1EeS0w",
        "tkjT9qbxerzw",
        "gTCmITzDYjZ_",
        "XlAcyxA4rtE0",
        "WCGAzgnyXxsQ",
        "jgDn5s5tXIPh",
        "rtV_-JHHbgxZ",
        "CIQkxeRsdGRq"
      ],
      "authorship_tag": "ABX9TyNo1F+NSjag+YuGIJuLyWIS",
      "include_colab_link": true
    },
    "kernelspec": {
      "name": "python3",
      "display_name": "Python 3"
    },
    "language_info": {
      "name": "python"
    }
  },
  "cells": [
    {
      "cell_type": "markdown",
      "metadata": {
        "id": "view-in-github",
        "colab_type": "text"
      },
      "source": [
        "<a href=\"https://colab.research.google.com/github/marceloccs/deep_learning_pos_ai/blob/main/Trilha_8_Uso_de_PyThorch_como_hyper_parametros.ipynb\" target=\"_parent\"><img src=\"https://colab.research.google.com/assets/colab-badge.svg\" alt=\"Open In Colab\"/></a>"
      ]
    },
    {
      "cell_type": "markdown",
      "metadata": {
        "id": "QR-oCoD1U1kJ"
      },
      "source": [
        "#**Nome:** Marcelo Custodio Cruz Silva\n",
        "\n",
        "##**Matricula:** 92123341\n",
        "\n",
        "---\n",
        "\n",
        "##**Curso:** Inteligencia Artificial\n",
        "\n",
        "##**Turma:** B\n",
        "\n",
        "*Link do arquivo no google colabs: https://colab.research.google.com/drive/1g1mPmaSRKiOUNAisZncCHuGc9Qz4syqn?usp=sharing*\n",
        "\n",
        "*Link do arquivo no github: https://github.com/marceloccs/deep_learning_pos_ai/blob/main/Trilha_8_Uso_de_PyThorch_como_hyper_parametros.ipynb* "
      ]
    },
    {
      "cell_type": "markdown",
      "metadata": {
        "id": "xRu7DulSc2tZ"
      },
      "source": [
        "#Trilha 8: Tarefa\n",
        "\n",
        "Nesta tarefa você fará o ajuste automático dos hiperparâmetros do modelo TensorFlow que você desenvolveu na atividade da Trilha 4. O resultado do seu modelo deve ser acima de 0.8 de acuracidade sobre o conjunto de teste (0.3 dos dados de treinamento). Mostre sua seleção de valores de hiperparâmetros e os resultados apresentados ao final indicando a diferença obtida com relação ao modelo original.   \n",
        "\n",
        " \n",
        "\n",
        "Se preferir, você pode fazer o tunning dos hiperparâmetros em PyTorch empregando a atividade da Trilha 6 como modelo inicial. \n",
        "\n",
        " \n",
        "\n",
        "Ao final, apresente as suas conclusões. \n",
        "\n",
        "\n",
        "\n",
        "Enviar a atividade em .pdf juntamente com o endereço do Python notebook 100% executável. "
      ]
    },
    {
      "cell_type": "markdown",
      "metadata": {
        "id": "_yHNvN7lWcGA"
      },
      "source": [
        "##Preparos iniciais do modelo"
      ]
    },
    {
      "cell_type": "markdown",
      "metadata": {
        "id": "YWBlCm1EeS0w"
      },
      "source": [
        "###Imports para dependencias necessarias ao decorrer do modelo."
      ]
    },
    {
      "cell_type": "code",
      "metadata": {
        "id": "jSVsFGuMeZ8w"
      },
      "source": [
        "#Manipulação de dados\n",
        "import pandas as pd\n",
        "import numpy as np\n",
        "import matplotlib.pyplot as plt\n",
        "#PyTorch\n",
        "import torch\n",
        "import torch.nn as nn\n",
        "from torch.autograd import Variable\n",
        "#Sklearn\n",
        "from sklearn.model_selection import train_test_split\n",
        "from sklearn.metrics import confusion_matrix, classification_report, accuracy_score\n",
        "from sklearn.preprocessing import LabelEncoder\n",
        "#Auxiliar para leitura e print de dados\n",
        "from IPython.display import display"
      ],
      "execution_count": 1,
      "outputs": []
    },
    {
      "cell_type": "markdown",
      "metadata": {
        "id": "tkjT9qbxerzw"
      },
      "source": [
        "###Leitura do arquivo para predição de cogumelos."
      ]
    },
    {
      "cell_type": "markdown",
      "metadata": {
        "id": "h6BcwhX5gij6"
      },
      "source": [
        "*Modelo de classificação binária para identificação se o cogumelo, pelas suas características físicas, é comestível ou venenoso.*"
      ]
    },
    {
      "cell_type": "markdown",
      "metadata": {
        "id": "Lc7NobOpd-kw"
      },
      "source": [
        "**Link Kaggle:** https://archive.ics.uci.edu/ml/datasets/Mushroom\n",
        "\n",
        "**Link Github:** https://raw.githubusercontent.com/marceloccs/pos-ai-files/main/Trilha%204%20Uso%20de%20tensores%20com%20TenserFlow/agaricus-lepiota.data"
      ]
    },
    {
      "cell_type": "markdown",
      "metadata": {
        "id": "qzumCONFeOBY"
      },
      "source": [
        "A seguir é utilizado um dataset contendo diversas especies de cogumelos, as características vão ser utilizadas para definir se o cogumelo é venenoso ou comestível. Para realizar esse predição é utilizado o modelo de classificação binária."
      ]
    },
    {
      "cell_type": "code",
      "metadata": {
        "colab": {
          "base_uri": "https://localhost:8080/",
          "height": 0
        },
        "id": "FbzuOfplXnWQ",
        "outputId": "b64c6596-736e-4af1-80ee-221c7cf22b66"
      },
      "source": [
        "df = pd.read_csv('https://raw.githubusercontent.com/marceloccs/pos-ai-files/main/Trilha%204%20Uso%20de%20tensores%20com%20TenserFlow/agaricus-lepiota.data')\n",
        "df = df.dropna()\n",
        "display(df.head())"
      ],
      "execution_count": 2,
      "outputs": [
        {
          "output_type": "display_data",
          "data": {
            "text/html": [
              "<div>\n",
              "<style scoped>\n",
              "    .dataframe tbody tr th:only-of-type {\n",
              "        vertical-align: middle;\n",
              "    }\n",
              "\n",
              "    .dataframe tbody tr th {\n",
              "        vertical-align: top;\n",
              "    }\n",
              "\n",
              "    .dataframe thead th {\n",
              "        text-align: right;\n",
              "    }\n",
              "</style>\n",
              "<table border=\"1\" class=\"dataframe\">\n",
              "  <thead>\n",
              "    <tr style=\"text-align: right;\">\n",
              "      <th></th>\n",
              "      <th>classe</th>\n",
              "      <th>cap_shape</th>\n",
              "      <th>cap_surface</th>\n",
              "      <th>cap_color</th>\n",
              "      <th>bruises</th>\n",
              "      <th>odor</th>\n",
              "      <th>gill_attachment</th>\n",
              "      <th>gill_spacing</th>\n",
              "      <th>gill_size</th>\n",
              "      <th>gill_color</th>\n",
              "      <th>stalk_shape</th>\n",
              "      <th>stalk_root</th>\n",
              "      <th>stalk_surface_above_ring</th>\n",
              "      <th>stalk_surface_below_ring</th>\n",
              "      <th>stalk_color_above_ring</th>\n",
              "      <th>stalk_color_below_ring</th>\n",
              "      <th>veil_type</th>\n",
              "      <th>veil_color</th>\n",
              "      <th>ring_number</th>\n",
              "      <th>ring_type</th>\n",
              "      <th>spore_print_color</th>\n",
              "      <th>population</th>\n",
              "      <th>habitat</th>\n",
              "    </tr>\n",
              "  </thead>\n",
              "  <tbody>\n",
              "    <tr>\n",
              "      <th>0</th>\n",
              "      <td>p</td>\n",
              "      <td>x</td>\n",
              "      <td>s</td>\n",
              "      <td>n</td>\n",
              "      <td>t</td>\n",
              "      <td>p</td>\n",
              "      <td>f</td>\n",
              "      <td>c</td>\n",
              "      <td>n</td>\n",
              "      <td>k</td>\n",
              "      <td>e</td>\n",
              "      <td>e</td>\n",
              "      <td>s</td>\n",
              "      <td>s</td>\n",
              "      <td>w</td>\n",
              "      <td>w</td>\n",
              "      <td>p</td>\n",
              "      <td>w</td>\n",
              "      <td>o</td>\n",
              "      <td>p</td>\n",
              "      <td>k</td>\n",
              "      <td>s</td>\n",
              "      <td>u</td>\n",
              "    </tr>\n",
              "    <tr>\n",
              "      <th>1</th>\n",
              "      <td>e</td>\n",
              "      <td>x</td>\n",
              "      <td>s</td>\n",
              "      <td>y</td>\n",
              "      <td>t</td>\n",
              "      <td>a</td>\n",
              "      <td>f</td>\n",
              "      <td>c</td>\n",
              "      <td>b</td>\n",
              "      <td>k</td>\n",
              "      <td>e</td>\n",
              "      <td>c</td>\n",
              "      <td>s</td>\n",
              "      <td>s</td>\n",
              "      <td>w</td>\n",
              "      <td>w</td>\n",
              "      <td>p</td>\n",
              "      <td>w</td>\n",
              "      <td>o</td>\n",
              "      <td>p</td>\n",
              "      <td>n</td>\n",
              "      <td>n</td>\n",
              "      <td>g</td>\n",
              "    </tr>\n",
              "    <tr>\n",
              "      <th>2</th>\n",
              "      <td>e</td>\n",
              "      <td>b</td>\n",
              "      <td>s</td>\n",
              "      <td>w</td>\n",
              "      <td>t</td>\n",
              "      <td>l</td>\n",
              "      <td>f</td>\n",
              "      <td>c</td>\n",
              "      <td>b</td>\n",
              "      <td>n</td>\n",
              "      <td>e</td>\n",
              "      <td>c</td>\n",
              "      <td>s</td>\n",
              "      <td>s</td>\n",
              "      <td>w</td>\n",
              "      <td>w</td>\n",
              "      <td>p</td>\n",
              "      <td>w</td>\n",
              "      <td>o</td>\n",
              "      <td>p</td>\n",
              "      <td>n</td>\n",
              "      <td>n</td>\n",
              "      <td>m</td>\n",
              "    </tr>\n",
              "    <tr>\n",
              "      <th>3</th>\n",
              "      <td>p</td>\n",
              "      <td>x</td>\n",
              "      <td>y</td>\n",
              "      <td>w</td>\n",
              "      <td>t</td>\n",
              "      <td>p</td>\n",
              "      <td>f</td>\n",
              "      <td>c</td>\n",
              "      <td>n</td>\n",
              "      <td>n</td>\n",
              "      <td>e</td>\n",
              "      <td>e</td>\n",
              "      <td>s</td>\n",
              "      <td>s</td>\n",
              "      <td>w</td>\n",
              "      <td>w</td>\n",
              "      <td>p</td>\n",
              "      <td>w</td>\n",
              "      <td>o</td>\n",
              "      <td>p</td>\n",
              "      <td>k</td>\n",
              "      <td>s</td>\n",
              "      <td>u</td>\n",
              "    </tr>\n",
              "    <tr>\n",
              "      <th>4</th>\n",
              "      <td>e</td>\n",
              "      <td>x</td>\n",
              "      <td>s</td>\n",
              "      <td>g</td>\n",
              "      <td>f</td>\n",
              "      <td>n</td>\n",
              "      <td>f</td>\n",
              "      <td>w</td>\n",
              "      <td>b</td>\n",
              "      <td>k</td>\n",
              "      <td>t</td>\n",
              "      <td>e</td>\n",
              "      <td>s</td>\n",
              "      <td>s</td>\n",
              "      <td>w</td>\n",
              "      <td>w</td>\n",
              "      <td>p</td>\n",
              "      <td>w</td>\n",
              "      <td>o</td>\n",
              "      <td>e</td>\n",
              "      <td>n</td>\n",
              "      <td>a</td>\n",
              "      <td>g</td>\n",
              "    </tr>\n",
              "  </tbody>\n",
              "</table>\n",
              "</div>"
            ],
            "text/plain": [
              "  classe cap_shape cap_surface  ... spore_print_color population habitat\n",
              "0      p         x           s  ...                 k          s       u\n",
              "1      e         x           s  ...                 n          n       g\n",
              "2      e         b           s  ...                 n          n       m\n",
              "3      p         x           y  ...                 k          s       u\n",
              "4      e         x           s  ...                 n          a       g\n",
              "\n",
              "[5 rows x 23 columns]"
            ]
          },
          "metadata": {}
        }
      ]
    },
    {
      "cell_type": "markdown",
      "metadata": {
        "id": "gTCmITzDYjZ_"
      },
      "source": [
        "###Informações de atributos: \n",
        "\n"
      ]
    },
    {
      "cell_type": "markdown",
      "metadata": {
        "id": "SLPMthaFZ8jA"
      },
      "source": [
        "     1. classes: comestíveis = e, venenosos = p\n",
        "     2. forma de capa: sino = b, cônico = c, convexo = x, plano = f,knobbed = k, sunken = s\n",
        "     3. superfície da capa: fibrosa = f, ranhuras = g, escamosa = y, lisa = s\n",
        "     4. cor da tampa: marrom = n, amarelo-claro = b, canela = c, cinza = g, verde = r, rosa = p, roxo = u, vermelho = e, branco = w, amarelo = y\n",
        "     5. hematomas ?: hematomas = t, não = f\n",
        "     6. odor: amêndoa = a, anis = l, creosoto = c, peixe = y, fétido = f, mofo = m, nenhum = n, picante = p, picante = s \n",
        "     7. anexo de brânquia: anexado = a, descendente = d, livre = f, entalhado = n\n",
        "     8. espaçamento entre guelras: próximo = c, lotado = w, distante = d\n",
        "     9. tamanho da guelra: largo = b, estreito = n\n",
        "     10. cor das guelras: preto = k, marrom = n, amarelo-claro = b, chocolate = h, cinza = g, verde = r, laranja = o, rosa = p, roxo = u, vermelho = e, branco = w, amarelo = y\n",
        "     11. formato de haste: ampliação = e, afilamento = t\n",
        "     12. raiz do caule: bulboso = b, clube = c, xícara = u, igual = e, rizomorfos = z, enraizado = r, ausente =?\n",
        "     13. superfície da haste acima do anel: fibroso = f, escamoso = y, sedoso = k, liso = s\n",
        "     14. superfície do caule abaixo do anel: fibroso = f, escamoso = y, sedoso = k, liso = s\n",
        "     15. haste-cor-acima do anel: marrom = n, amarelo-claro = b, canela = c, cinza = g, laranja = o, rosa = p, vermelho = e, branco = w, amarelo = y\n",
        "     16. cor-do-caule abaixo do anel: marrom = n, amarelo-claro = b, canela = c, cinza = g, laranja = o, rosa = p, vermelho = e, branco = w, amarelo = y\n",
        "     17. tipo de véu: parcial = p, universal = u \n",
        "     18. cor do véu: marrom = n, laranja = o, branco = w, amarelo = y\n",
        "     19. número do anel: nenhum = n, um = o, dois = t 19. tipo de anel: teia de aranha = c, evanescente = e, alargamento = f, grande = l, nenhum = n, pendente = p, revestimento = s, zona = z\n",
        "     20. spore-print-color: black = k, brown = n, buff = b, chocolate = h, green = r, laranja = o, roxo = u, branco = w, amarelo = y\n",
        "     21. população: abundante = a, agrupado = c, numeroso = n, espalhado = s, vários = v, solitário = y\n",
        "     22. habitat: gramíneas = g, folhas = l, prados = m, caminhos = p, urbano = u, desperdício = w, madeiras = d"
      ]
    },
    {
      "cell_type": "markdown",
      "metadata": {
        "id": "XlAcyxA4rtE0"
      },
      "source": [
        "###Contagem de cogumelos por classe:"
      ]
    },
    {
      "cell_type": "code",
      "metadata": {
        "id": "JDVtZ6pzruHc",
        "colab": {
          "base_uri": "https://localhost:8080/",
          "height": 0
        },
        "outputId": "01f318ca-9f74-42b4-d0a6-b35010eebe79"
      },
      "source": [
        "dfCount = df['classe'].value_counts()\n",
        "display(dfCount)"
      ],
      "execution_count": 3,
      "outputs": [
        {
          "output_type": "display_data",
          "data": {
            "text/plain": [
              "e    4208\n",
              "p    3916\n",
              "Name: classe, dtype: int64"
            ]
          },
          "metadata": {}
        }
      ]
    },
    {
      "cell_type": "markdown",
      "metadata": {
        "id": "WCGAzgnyXxsQ"
      },
      "source": [
        "####Função Auxiliar para leitura descretização"
      ]
    },
    {
      "cell_type": "markdown",
      "metadata": {
        "id": "X9qGbPRCdhyl"
      },
      "source": [
        "*Como o modelo é para classificação binária, é necessario valores numéricos no modelo*\n",
        " \n",
        "A função abaixo faz um Labbel enconder por valores na coluna, realizando uma discretização de valores."
      ]
    },
    {
      "cell_type": "code",
      "metadata": {
        "id": "gqYU1BjwXvUv"
      },
      "source": [
        "def dataframeEncoding(dataframe):\n",
        "    le = LabelEncoder()\n",
        "    for i in range(len(dataframe.columns)):\n",
        "        le.fit(dataframe.iloc[:,i])\n",
        "        dataframe.iloc[:,i]  = le.transform(dataframe.iloc[:,i])\n",
        "    return dataframe"
      ],
      "execution_count": 4,
      "outputs": []
    },
    {
      "cell_type": "code",
      "metadata": {
        "colab": {
          "base_uri": "https://localhost:8080/",
          "height": 0
        },
        "id": "10INffrJexw3",
        "outputId": "f492a2d7-5ba1-42ca-fa03-35b9af5cf66c"
      },
      "source": [
        "df = dataframeEncoding(df)\n",
        "display(df.head())"
      ],
      "execution_count": 5,
      "outputs": [
        {
          "output_type": "display_data",
          "data": {
            "text/html": [
              "<div>\n",
              "<style scoped>\n",
              "    .dataframe tbody tr th:only-of-type {\n",
              "        vertical-align: middle;\n",
              "    }\n",
              "\n",
              "    .dataframe tbody tr th {\n",
              "        vertical-align: top;\n",
              "    }\n",
              "\n",
              "    .dataframe thead th {\n",
              "        text-align: right;\n",
              "    }\n",
              "</style>\n",
              "<table border=\"1\" class=\"dataframe\">\n",
              "  <thead>\n",
              "    <tr style=\"text-align: right;\">\n",
              "      <th></th>\n",
              "      <th>classe</th>\n",
              "      <th>cap_shape</th>\n",
              "      <th>cap_surface</th>\n",
              "      <th>cap_color</th>\n",
              "      <th>bruises</th>\n",
              "      <th>odor</th>\n",
              "      <th>gill_attachment</th>\n",
              "      <th>gill_spacing</th>\n",
              "      <th>gill_size</th>\n",
              "      <th>gill_color</th>\n",
              "      <th>stalk_shape</th>\n",
              "      <th>stalk_root</th>\n",
              "      <th>stalk_surface_above_ring</th>\n",
              "      <th>stalk_surface_below_ring</th>\n",
              "      <th>stalk_color_above_ring</th>\n",
              "      <th>stalk_color_below_ring</th>\n",
              "      <th>veil_type</th>\n",
              "      <th>veil_color</th>\n",
              "      <th>ring_number</th>\n",
              "      <th>ring_type</th>\n",
              "      <th>spore_print_color</th>\n",
              "      <th>population</th>\n",
              "      <th>habitat</th>\n",
              "    </tr>\n",
              "  </thead>\n",
              "  <tbody>\n",
              "    <tr>\n",
              "      <th>0</th>\n",
              "      <td>1</td>\n",
              "      <td>5</td>\n",
              "      <td>2</td>\n",
              "      <td>4</td>\n",
              "      <td>1</td>\n",
              "      <td>6</td>\n",
              "      <td>1</td>\n",
              "      <td>0</td>\n",
              "      <td>1</td>\n",
              "      <td>4</td>\n",
              "      <td>0</td>\n",
              "      <td>3</td>\n",
              "      <td>2</td>\n",
              "      <td>2</td>\n",
              "      <td>7</td>\n",
              "      <td>7</td>\n",
              "      <td>0</td>\n",
              "      <td>2</td>\n",
              "      <td>1</td>\n",
              "      <td>4</td>\n",
              "      <td>2</td>\n",
              "      <td>3</td>\n",
              "      <td>5</td>\n",
              "    </tr>\n",
              "    <tr>\n",
              "      <th>1</th>\n",
              "      <td>0</td>\n",
              "      <td>5</td>\n",
              "      <td>2</td>\n",
              "      <td>9</td>\n",
              "      <td>1</td>\n",
              "      <td>0</td>\n",
              "      <td>1</td>\n",
              "      <td>0</td>\n",
              "      <td>0</td>\n",
              "      <td>4</td>\n",
              "      <td>0</td>\n",
              "      <td>2</td>\n",
              "      <td>2</td>\n",
              "      <td>2</td>\n",
              "      <td>7</td>\n",
              "      <td>7</td>\n",
              "      <td>0</td>\n",
              "      <td>2</td>\n",
              "      <td>1</td>\n",
              "      <td>4</td>\n",
              "      <td>3</td>\n",
              "      <td>2</td>\n",
              "      <td>1</td>\n",
              "    </tr>\n",
              "    <tr>\n",
              "      <th>2</th>\n",
              "      <td>0</td>\n",
              "      <td>0</td>\n",
              "      <td>2</td>\n",
              "      <td>8</td>\n",
              "      <td>1</td>\n",
              "      <td>3</td>\n",
              "      <td>1</td>\n",
              "      <td>0</td>\n",
              "      <td>0</td>\n",
              "      <td>5</td>\n",
              "      <td>0</td>\n",
              "      <td>2</td>\n",
              "      <td>2</td>\n",
              "      <td>2</td>\n",
              "      <td>7</td>\n",
              "      <td>7</td>\n",
              "      <td>0</td>\n",
              "      <td>2</td>\n",
              "      <td>1</td>\n",
              "      <td>4</td>\n",
              "      <td>3</td>\n",
              "      <td>2</td>\n",
              "      <td>3</td>\n",
              "    </tr>\n",
              "    <tr>\n",
              "      <th>3</th>\n",
              "      <td>1</td>\n",
              "      <td>5</td>\n",
              "      <td>3</td>\n",
              "      <td>8</td>\n",
              "      <td>1</td>\n",
              "      <td>6</td>\n",
              "      <td>1</td>\n",
              "      <td>0</td>\n",
              "      <td>1</td>\n",
              "      <td>5</td>\n",
              "      <td>0</td>\n",
              "      <td>3</td>\n",
              "      <td>2</td>\n",
              "      <td>2</td>\n",
              "      <td>7</td>\n",
              "      <td>7</td>\n",
              "      <td>0</td>\n",
              "      <td>2</td>\n",
              "      <td>1</td>\n",
              "      <td>4</td>\n",
              "      <td>2</td>\n",
              "      <td>3</td>\n",
              "      <td>5</td>\n",
              "    </tr>\n",
              "    <tr>\n",
              "      <th>4</th>\n",
              "      <td>0</td>\n",
              "      <td>5</td>\n",
              "      <td>2</td>\n",
              "      <td>3</td>\n",
              "      <td>0</td>\n",
              "      <td>5</td>\n",
              "      <td>1</td>\n",
              "      <td>1</td>\n",
              "      <td>0</td>\n",
              "      <td>4</td>\n",
              "      <td>1</td>\n",
              "      <td>3</td>\n",
              "      <td>2</td>\n",
              "      <td>2</td>\n",
              "      <td>7</td>\n",
              "      <td>7</td>\n",
              "      <td>0</td>\n",
              "      <td>2</td>\n",
              "      <td>1</td>\n",
              "      <td>0</td>\n",
              "      <td>3</td>\n",
              "      <td>0</td>\n",
              "      <td>1</td>\n",
              "    </tr>\n",
              "  </tbody>\n",
              "</table>\n",
              "</div>"
            ],
            "text/plain": [
              "   classe  cap_shape  cap_surface  ...  spore_print_color  population  habitat\n",
              "0       1          5            2  ...                  2           3        5\n",
              "1       0          5            2  ...                  3           2        1\n",
              "2       0          0            2  ...                  3           2        3\n",
              "3       1          5            3  ...                  2           3        5\n",
              "4       0          5            2  ...                  3           0        1\n",
              "\n",
              "[5 rows x 23 columns]"
            ]
          },
          "metadata": {}
        }
      ]
    },
    {
      "cell_type": "markdown",
      "metadata": {
        "id": "0L9gHLfEXZwl"
      },
      "source": [
        "##Inicio do modelo, treinamento e resultado  "
      ]
    },
    {
      "cell_type": "markdown",
      "metadata": {
        "id": "tpHrpQpivNNU"
      },
      "source": [
        "###Separação de modelos de teste e de treinamento"
      ]
    },
    {
      "cell_type": "markdown",
      "metadata": {
        "id": "p7sScvr5iC9q"
      },
      "source": [
        "*Separando os grupos de teste e treino, com o tamanho de teste de 30% (ou 0.3) do modelo todo*"
      ]
    },
    {
      "cell_type": "code",
      "metadata": {
        "colab": {
          "base_uri": "https://localhost:8080/",
          "height": 415
        },
        "id": "D3vVJMPHurS0",
        "outputId": "f58eae32-aa74-4c85-f25d-37377d7b1d4f"
      },
      "source": [
        "dfClassificacao = df.copy()\n",
        "X = dfClassificacao.drop('classe', axis=1)\n",
        "y = dfClassificacao[['classe']]\n",
        "X_train, X_test, y_train, y_test = train_test_split(X, y, test_size=0.3, random_state=6)\n",
        "display(X_train.head())\n",
        "display(y_train.head())"
      ],
      "execution_count": 6,
      "outputs": [
        {
          "output_type": "display_data",
          "data": {
            "text/html": [
              "<div>\n",
              "<style scoped>\n",
              "    .dataframe tbody tr th:only-of-type {\n",
              "        vertical-align: middle;\n",
              "    }\n",
              "\n",
              "    .dataframe tbody tr th {\n",
              "        vertical-align: top;\n",
              "    }\n",
              "\n",
              "    .dataframe thead th {\n",
              "        text-align: right;\n",
              "    }\n",
              "</style>\n",
              "<table border=\"1\" class=\"dataframe\">\n",
              "  <thead>\n",
              "    <tr style=\"text-align: right;\">\n",
              "      <th></th>\n",
              "      <th>cap_shape</th>\n",
              "      <th>cap_surface</th>\n",
              "      <th>cap_color</th>\n",
              "      <th>bruises</th>\n",
              "      <th>odor</th>\n",
              "      <th>gill_attachment</th>\n",
              "      <th>gill_spacing</th>\n",
              "      <th>gill_size</th>\n",
              "      <th>gill_color</th>\n",
              "      <th>stalk_shape</th>\n",
              "      <th>stalk_root</th>\n",
              "      <th>stalk_surface_above_ring</th>\n",
              "      <th>stalk_surface_below_ring</th>\n",
              "      <th>stalk_color_above_ring</th>\n",
              "      <th>stalk_color_below_ring</th>\n",
              "      <th>veil_type</th>\n",
              "      <th>veil_color</th>\n",
              "      <th>ring_number</th>\n",
              "      <th>ring_type</th>\n",
              "      <th>spore_print_color</th>\n",
              "      <th>population</th>\n",
              "      <th>habitat</th>\n",
              "    </tr>\n",
              "  </thead>\n",
              "  <tbody>\n",
              "    <tr>\n",
              "      <th>716</th>\n",
              "      <td>0</td>\n",
              "      <td>2</td>\n",
              "      <td>8</td>\n",
              "      <td>1</td>\n",
              "      <td>3</td>\n",
              "      <td>1</td>\n",
              "      <td>0</td>\n",
              "      <td>0</td>\n",
              "      <td>4</td>\n",
              "      <td>0</td>\n",
              "      <td>2</td>\n",
              "      <td>2</td>\n",
              "      <td>2</td>\n",
              "      <td>7</td>\n",
              "      <td>7</td>\n",
              "      <td>0</td>\n",
              "      <td>2</td>\n",
              "      <td>1</td>\n",
              "      <td>4</td>\n",
              "      <td>3</td>\n",
              "      <td>3</td>\n",
              "      <td>3</td>\n",
              "    </tr>\n",
              "    <tr>\n",
              "      <th>36</th>\n",
              "      <td>4</td>\n",
              "      <td>0</td>\n",
              "      <td>3</td>\n",
              "      <td>0</td>\n",
              "      <td>5</td>\n",
              "      <td>1</td>\n",
              "      <td>0</td>\n",
              "      <td>1</td>\n",
              "      <td>4</td>\n",
              "      <td>0</td>\n",
              "      <td>3</td>\n",
              "      <td>2</td>\n",
              "      <td>2</td>\n",
              "      <td>7</td>\n",
              "      <td>7</td>\n",
              "      <td>0</td>\n",
              "      <td>2</td>\n",
              "      <td>1</td>\n",
              "      <td>4</td>\n",
              "      <td>2</td>\n",
              "      <td>4</td>\n",
              "      <td>5</td>\n",
              "    </tr>\n",
              "    <tr>\n",
              "      <th>336</th>\n",
              "      <td>5</td>\n",
              "      <td>3</td>\n",
              "      <td>4</td>\n",
              "      <td>1</td>\n",
              "      <td>0</td>\n",
              "      <td>1</td>\n",
              "      <td>0</td>\n",
              "      <td>0</td>\n",
              "      <td>10</td>\n",
              "      <td>0</td>\n",
              "      <td>4</td>\n",
              "      <td>2</td>\n",
              "      <td>3</td>\n",
              "      <td>7</td>\n",
              "      <td>7</td>\n",
              "      <td>0</td>\n",
              "      <td>2</td>\n",
              "      <td>1</td>\n",
              "      <td>4</td>\n",
              "      <td>2</td>\n",
              "      <td>5</td>\n",
              "      <td>1</td>\n",
              "    </tr>\n",
              "    <tr>\n",
              "      <th>8084</th>\n",
              "      <td>0</td>\n",
              "      <td>0</td>\n",
              "      <td>3</td>\n",
              "      <td>0</td>\n",
              "      <td>5</td>\n",
              "      <td>1</td>\n",
              "      <td>1</td>\n",
              "      <td>0</td>\n",
              "      <td>7</td>\n",
              "      <td>0</td>\n",
              "      <td>0</td>\n",
              "      <td>1</td>\n",
              "      <td>1</td>\n",
              "      <td>7</td>\n",
              "      <td>7</td>\n",
              "      <td>0</td>\n",
              "      <td>2</td>\n",
              "      <td>2</td>\n",
              "      <td>4</td>\n",
              "      <td>7</td>\n",
              "      <td>3</td>\n",
              "      <td>1</td>\n",
              "    </tr>\n",
              "    <tr>\n",
              "      <th>960</th>\n",
              "      <td>5</td>\n",
              "      <td>0</td>\n",
              "      <td>4</td>\n",
              "      <td>0</td>\n",
              "      <td>5</td>\n",
              "      <td>1</td>\n",
              "      <td>1</td>\n",
              "      <td>0</td>\n",
              "      <td>5</td>\n",
              "      <td>1</td>\n",
              "      <td>3</td>\n",
              "      <td>0</td>\n",
              "      <td>0</td>\n",
              "      <td>7</td>\n",
              "      <td>7</td>\n",
              "      <td>0</td>\n",
              "      <td>2</td>\n",
              "      <td>1</td>\n",
              "      <td>0</td>\n",
              "      <td>2</td>\n",
              "      <td>0</td>\n",
              "      <td>1</td>\n",
              "    </tr>\n",
              "  </tbody>\n",
              "</table>\n",
              "</div>"
            ],
            "text/plain": [
              "      cap_shape  cap_surface  cap_color  ...  spore_print_color  population  habitat\n",
              "716           0            2          8  ...                  3           3        3\n",
              "36            4            0          3  ...                  2           4        5\n",
              "336           5            3          4  ...                  2           5        1\n",
              "8084          0            0          3  ...                  7           3        1\n",
              "960           5            0          4  ...                  2           0        1\n",
              "\n",
              "[5 rows x 22 columns]"
            ]
          },
          "metadata": {}
        },
        {
          "output_type": "display_data",
          "data": {
            "text/html": [
              "<div>\n",
              "<style scoped>\n",
              "    .dataframe tbody tr th:only-of-type {\n",
              "        vertical-align: middle;\n",
              "    }\n",
              "\n",
              "    .dataframe tbody tr th {\n",
              "        vertical-align: top;\n",
              "    }\n",
              "\n",
              "    .dataframe thead th {\n",
              "        text-align: right;\n",
              "    }\n",
              "</style>\n",
              "<table border=\"1\" class=\"dataframe\">\n",
              "  <thead>\n",
              "    <tr style=\"text-align: right;\">\n",
              "      <th></th>\n",
              "      <th>classe</th>\n",
              "    </tr>\n",
              "  </thead>\n",
              "  <tbody>\n",
              "    <tr>\n",
              "      <th>716</th>\n",
              "      <td>0</td>\n",
              "    </tr>\n",
              "    <tr>\n",
              "      <th>36</th>\n",
              "      <td>0</td>\n",
              "    </tr>\n",
              "    <tr>\n",
              "      <th>336</th>\n",
              "      <td>0</td>\n",
              "    </tr>\n",
              "    <tr>\n",
              "      <th>8084</th>\n",
              "      <td>0</td>\n",
              "    </tr>\n",
              "    <tr>\n",
              "      <th>960</th>\n",
              "      <td>0</td>\n",
              "    </tr>\n",
              "  </tbody>\n",
              "</table>\n",
              "</div>"
            ],
            "text/plain": [
              "      classe\n",
              "716        0\n",
              "36         0\n",
              "336        0\n",
              "8084       0\n",
              "960        0"
            ]
          },
          "metadata": {}
        }
      ]
    },
    {
      "cell_type": "markdown",
      "metadata": {
        "id": "MOpcDplHXRa5"
      },
      "source": [
        "###Modelo de aprendizado binario"
      ]
    },
    {
      "cell_type": "markdown",
      "metadata": {
        "id": "I1qCEPMUhWYF"
      },
      "source": [
        "**Abaixo o modelo criado possui 4 camadas**\n",
        "1.   Camada linear, com o input com o valor de entrada e a saida dom o dobro do que o valor de entrada.\n",
        "2.   Camada de regressão linear.\n",
        "3.   Camada para Dropout, para evitar o overfitting do modelo.\n",
        "4.   Camada de saída com sigmoid para manter os valores para classificação binaria. *Com o valor de saida de 1 neurônio e para entrada o valor da camada anterior a camada de dropout.*"
      ]
    },
    {
      "cell_type": "code",
      "metadata": {
        "id": "NGtvFa6BeBaF"
      },
      "source": [
        "class Encoder(nn.Module):\n",
        "  def __init__(self,input_dim, p):\n",
        "    super(Encoder,self).__init__()\n",
        "    self.layer1 = nn.Linear(input_dim, input_dim*2)\n",
        "    self.layer2 = nn.Linear(input_dim*2, input_dim*4)\n",
        "    self.dropout = nn.Dropout()\n",
        "    self.p = p\n",
        "\n",
        "  def forward(self, x):\n",
        "    x = torch.relu(self.layer1(x))\n",
        "    x = torch.dropout(self.dropout(x),self.p,train=True)\n",
        "    x = torch.relu(self.layer2(x))\n",
        "    return x\n",
        "\n",
        "class Decoder(nn.Module):\n",
        "  def __init__(self,input_dim, p):\n",
        "    super(Decoder,self).__init__()\n",
        "    self.layer1 = nn.Linear(input_dim*4, input_dim*2)\n",
        "    self.layer2 = nn.Linear(input_dim*2, 1)\n",
        "    self.dropout = nn.Dropout()\n",
        "    self.p = p\n",
        "\n",
        "  def forward(self, z):\n",
        "    z = torch.relu(self.layer1(z))\n",
        "    z = torch.dropout(self.dropout(z),self.p,train=True)\n",
        "    out = torch.sigmoid(self.layer2(z))\n",
        "    return out\n",
        " \n",
        "class Autoencoder(nn.Module):\n",
        "  def __init__(self, input_dim, p):\n",
        "    super(Autoencoder,self).__init__()\n",
        "    self.Encoder = Encoder(input_dim,p)\n",
        "    self.Decoder = Decoder(input_dim,p)\n",
        "\n",
        "  def forward(self, x):\n",
        "    z = self.Encoder(x)\n",
        "    out =  self.Decoder(z)\n",
        "    return out"
      ],
      "execution_count": 18,
      "outputs": []
    },
    {
      "cell_type": "code",
      "metadata": {
        "id": "CaivISghge72"
      },
      "source": [
        "from torch.utils.data import Dataset, DataLoader\n",
        "class dataset(Dataset):\n",
        "  def __init__(self,x,y):\n",
        "    self.x = torch.tensor(x,dtype=torch.float32)\n",
        "    self.y = torch.tensor(y,dtype=torch.float32)\n",
        "    self.length = len(self.x)\n",
        " \n",
        "  def __getitem__(self,idx):\n",
        "    return self.x[idx],self.y[idx]\n",
        "  def __len__(self):\n",
        "    return self.length\n",
        "\n",
        "trainset = dataset(X_train.to_numpy(),y_train.to_numpy())\n",
        "trainloader = DataLoader(trainset,batch_size=64,shuffle=False)"
      ],
      "execution_count": 19,
      "outputs": []
    },
    {
      "cell_type": "markdown",
      "metadata": {
        "id": "KyoiIFwFWBBn"
      },
      "source": [
        "**Função de perda é utilizado o \"*binary_crossentropy*\", como otimizado do modelo o \"*adam*\". Alem de declarar o modelo passando como parametro o tamanho da massa de treinamento e o parametro do dropout de probabilidade de elementos que serão zerados.**"
      ]
    },
    {
      "cell_type": "code",
      "metadata": {
        "colab": {
          "base_uri": "https://localhost:8080/"
        },
        "id": "HwfyHpl9v0cl",
        "outputId": "4e26b25d-97b8-436c-924d-6730500b136a"
      },
      "source": [
        "model     = Autoencoder(X_train.shape[1],p=0.5)\n",
        "optimizer = torch.optim.Adam(model.parameters())\n",
        "loss_fn   = nn.BCELoss()\n",
        "model"
      ],
      "execution_count": 20,
      "outputs": [
        {
          "output_type": "execute_result",
          "data": {
            "text/plain": [
              "Autoencoder(\n",
              "  (Encoder): Encoder(\n",
              "    (layer1): Linear(in_features=22, out_features=44, bias=True)\n",
              "    (layer2): Linear(in_features=44, out_features=88, bias=True)\n",
              "    (dropout): Dropout(p=0.5, inplace=False)\n",
              "  )\n",
              "  (Decoder): Decoder(\n",
              "    (layer1): Linear(in_features=88, out_features=44, bias=True)\n",
              "    (layer2): Linear(in_features=44, out_features=1, bias=True)\n",
              "    (dropout): Dropout(p=0.5, inplace=False)\n",
              "  )\n",
              ")"
            ]
          },
          "metadata": {},
          "execution_count": 20
        }
      ]
    },
    {
      "cell_type": "markdown",
      "metadata": {
        "id": "Pj0idsT8uHMK"
      },
      "source": [
        "Criação do loop de aprendizado de 50 interações. Além da interação para aprendizado, algumas métricas são retiradas para visualização de gráfico do resultado do aprendizado."
      ]
    },
    {
      "cell_type": "code",
      "metadata": {
        "colab": {
          "base_uri": "https://localhost:8080/"
        },
        "id": "JTj3DRJYgyuM",
        "outputId": "47c9215b-8f27-400e-82ef-0d526b14d6c0"
      },
      "source": [
        "import tqdm # somente para display da evolução do loop\n",
        "\n",
        "EPOCHS = 50\n",
        "loss_list = np.zeros((EPOCHS,))\n",
        "\n",
        "for epoch in tqdm.trange(EPOCHS):\n",
        "    loss_batch = 0\n",
        "\n",
        "    for x_batch, y_batch in trainloader:\n",
        "        # compute the model output\n",
        "        y_pred = model(x_batch)\n",
        "        loss = loss_fn(y_pred, y_batch)\n",
        "        # Zero gradients\n",
        "        optimizer.zero_grad()\n",
        "        loss.backward()\n",
        "        optimizer.step()\n",
        "        loss_batch = loss_batch + loss.item()\n",
        "    \n",
        "    loss_list[epoch] = loss_batch / len(x_batch)\n",
        "    "
      ],
      "execution_count": 21,
      "outputs": [
        {
          "output_type": "stream",
          "name": "stderr",
          "text": [
            "100%|██████████| 50/50 [00:07<00:00,  6.74it/s]\n"
          ]
        }
      ]
    },
    {
      "cell_type": "markdown",
      "metadata": {
        "id": "jgDn5s5tXIPh"
      },
      "source": [
        "###Funções de auxilio para visualização do resultado do modelo."
      ]
    },
    {
      "cell_type": "code",
      "metadata": {
        "id": "8cyBpa392kMF"
      },
      "source": [
        "def plot_history(loss_list):\n",
        "  plt.plot(loss_list)\n",
        "  plt.ylabel(\"Train Loss\")\n",
        "  plt.xlabel(\"Epoch\")\n",
        "  plt.show()"
      ],
      "execution_count": 22,
      "outputs": []
    },
    {
      "cell_type": "markdown",
      "metadata": {
        "id": "rtV_-JHHbgxZ"
      },
      "source": [
        "###Resultado do aprendizado:"
      ]
    },
    {
      "cell_type": "markdown",
      "metadata": {
        "id": "MQtSQmdTvPXR"
      },
      "source": [
        "Criação de DataSet para os conjuntos de teste."
      ]
    },
    {
      "cell_type": "code",
      "metadata": {
        "id": "FdGywDaeRwin"
      },
      "source": [
        "testset = dataset(X_test.to_numpy(),y_test.to_numpy())\n",
        "xx_test, yy_test = next(iter(testset))\n",
        "yy_pred = model(xx_test).round()"
      ],
      "execution_count": 23,
      "outputs": []
    },
    {
      "cell_type": "markdown",
      "metadata": {
        "id": "rRP9gyXivWOj"
      },
      "source": [
        "Retirada de valor de acurancia do modelo, baseado no teste realizado"
      ]
    },
    {
      "cell_type": "code",
      "metadata": {
        "colab": {
          "base_uri": "https://localhost:8080/"
        },
        "id": "0YxQc7KXR1IU",
        "outputId": "6746096c-c950-4f49-b802-2bb45f2565d5"
      },
      "source": [
        "from sklearn.metrics import accuracy_score\n",
        "print(accuracy_score(yy_test.detach().numpy(), yy_pred.detach().numpy()))"
      ],
      "execution_count": 24,
      "outputs": [
        {
          "output_type": "stream",
          "name": "stdout",
          "text": [
            "1.0\n"
          ]
        }
      ]
    },
    {
      "cell_type": "markdown",
      "metadata": {
        "id": "JTUNXppEvc2q"
      },
      "source": [
        "Plot do grafico da função de perda."
      ]
    },
    {
      "cell_type": "code",
      "metadata": {
        "id": "_wKb1K2mbjnH",
        "colab": {
          "base_uri": "https://localhost:8080/",
          "height": 279
        },
        "outputId": "a4a60f96-42c2-4c9b-9053-54cf6384f5fa"
      },
      "source": [
        "plot_history(loss_list)"
      ],
      "execution_count": 25,
      "outputs": [
        {
          "output_type": "display_data",
          "data": {
            "image/png": "[encoded data removed]",
            "text/plain": [
              "<Figure size 432x288 with 1 Axes>"
            ]
          },
          "metadata": {
            "needs_background": "light"
          }
        }
      ]
    },
    {
      "cell_type": "markdown",
      "metadata": {
        "id": "CIQkxeRsdGRq"
      },
      "source": [
        "##Conclusão"
      ]
    },
    {
      "cell_type": "markdown",
      "metadata": {
        "id": "tWIJ8zuwdIh6"
      },
      "source": [
        "O modelo apresentado é um modelo simples para verificar se uma espécie de cogumelo é venenosa ou não baseado em suas características, o mesmo modelo foi feito no TensorFlow anteriormente, também foi feita uma implementação em PyTorch. Agora podemos voltar a avaliação das diferenças notadas entre as implementações em PyTorch simples para com o pytorch com Auto Encoder.\n",
        "\n",
        "Ambas implementações do PyTorch para o modelo apresentaram resultados de acurácia e de Train Loss muito boas, porém ao focar na implementação de autoencoder podemos ver que com as redes neurais separadas em 2 classes aumenta bastante as possibilidades de criação de classes reutilizáveis. Aumentando o dinamismo de reutilização de componentes de inteligências artificiais.\n",
        "\n",
        "Claramente esse não necessaria mente é o único insight que podemos tirar, a possibilidade de decode um valor para dados de interpretação do modelo, depois o encode nos valores em que precisamos torna a ferramenta muito versátil a mais situações complexas, por exemplo: encode e decode de imagens de cogumelos para a informação se o cogumelo é  venenoso ou não, ou captura de imagens sem cor para colori las durante o processamento e inúmeros outras opções.\n"
      ]
    }
  ]
}